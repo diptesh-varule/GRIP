{
  "nbformat": 4,
  "nbformat_minor": 0,
  "metadata": {
    "colab": {
      "name": "TSF Task-4.ipynb",
      "provenance": [],
      "collapsed_sections": []
    },
    "kernelspec": {
      "display_name": "Python 3",
      "language": "python",
      "name": "python3"
    },
    "language_info": {
      "codemirror_mode": {
        "name": "ipython",
        "version": 3
      },
      "file_extension": ".py",
      "mimetype": "text/x-python",
      "name": "python",
      "nbconvert_exporter": "python",
      "pygments_lexer": "ipython3",
      "version": "3.8.5"
    }
  },
  "cells": [
    {
      "cell_type": "markdown",
      "metadata": {
        "id": "hPm7DUx_Mo29"
      },
      "source": [
        "# Author : Diptesh Varule\n",
        "\n",
        "#GRIP August 2021- Sparks Foundation\n",
        "\n",
        "## Technical Task : Exploratory Data Analysis - Sports (Level - Advanced)\n",
        "\n",
        "\n",
        "In this task, we will be performing exploratory data analysis on the dataset \"Sport\" and try to find out the best team in IPL. Also, we will find the best bolwer and various insights.\n",
        "\n",
        "The steps demonstrated in this notebook are:\n",
        "\n",
        " 1. Loading the data\n",
        " 2. Familiarizing with data\n",
        " 3. Visualizing the data\n",
        " 4. Data Analysis\n",
        " 5. Conclusion"
      ]
    },
    {
      "cell_type": "markdown",
      "metadata": {
        "id": "Chb7vSUy97qH"
      },
      "source": [
        "## 1. Loading Data:\n",
        "\n",
        "   The dataset is borrowed from https://bit.ly/34SRn3b . "
      ]
    },
    {
      "cell_type": "code",
      "metadata": {
        "id": "YJ478_bGMndD"
      },
      "source": [
        "#importing required libraries\n",
        "\n",
        "import pandas as pd\n",
        "import numpy as np\n",
        "import matplotlib.pyplot as plt\n",
        "import seaborn as sns\n",
        "import warnings\n",
        "warnings.filterwarnings(\"ignore\")\n",
        "%matplotlib inline"
      ],
      "execution_count": 60,
      "outputs": []
    },
    {
      "cell_type": "code",
      "metadata": {
        "colab": {
          "base_uri": "https://localhost:8080/",
          "height": 395
        },
        "id": "q5Ur5z2oNV88",
        "outputId": "daa2b83f-a245-438c-e145-ce860c945b5e"
      },
      "source": [
        "#Loading data into dataframe\n",
        "\n",
        "data_deliveries = pd.read_csv('deliveries.csv')\n",
        "data_deliveries.head()"
      ],
      "execution_count": 61,
      "outputs": [
        {
          "output_type": "execute_result",
          "data": {
            "text/html": [
              "<div>\n",
              "<style scoped>\n",
              "    .dataframe tbody tr th:only-of-type {\n",
              "        vertical-align: middle;\n",
              "    }\n",
              "\n",
              "    .dataframe tbody tr th {\n",
              "        vertical-align: top;\n",
              "    }\n",
              "\n",
              "    .dataframe thead th {\n",
              "        text-align: right;\n",
              "    }\n",
              "</style>\n",
              "<table border=\"1\" class=\"dataframe\">\n",
              "  <thead>\n",
              "    <tr style=\"text-align: right;\">\n",
              "      <th></th>\n",
              "      <th>match_id</th>\n",
              "      <th>inning</th>\n",
              "      <th>batting_team</th>\n",
              "      <th>bowling_team</th>\n",
              "      <th>over</th>\n",
              "      <th>ball</th>\n",
              "      <th>batsman</th>\n",
              "      <th>non_striker</th>\n",
              "      <th>bowler</th>\n",
              "      <th>is_super_over</th>\n",
              "      <th>wide_runs</th>\n",
              "      <th>bye_runs</th>\n",
              "      <th>legbye_runs</th>\n",
              "      <th>noball_runs</th>\n",
              "      <th>penalty_runs</th>\n",
              "      <th>batsman_runs</th>\n",
              "      <th>extra_runs</th>\n",
              "      <th>total_runs</th>\n",
              "      <th>player_dismissed</th>\n",
              "      <th>dismissal_kind</th>\n",
              "      <th>fielder</th>\n",
              "    </tr>\n",
              "  </thead>\n",
              "  <tbody>\n",
              "    <tr>\n",
              "      <th>0</th>\n",
              "      <td>1</td>\n",
              "      <td>1</td>\n",
              "      <td>Sunrisers Hyderabad</td>\n",
              "      <td>Royal Challengers Bangalore</td>\n",
              "      <td>1</td>\n",
              "      <td>1</td>\n",
              "      <td>DA Warner</td>\n",
              "      <td>S Dhawan</td>\n",
              "      <td>TS Mills</td>\n",
              "      <td>0</td>\n",
              "      <td>0</td>\n",
              "      <td>0</td>\n",
              "      <td>0</td>\n",
              "      <td>0</td>\n",
              "      <td>0</td>\n",
              "      <td>0</td>\n",
              "      <td>0</td>\n",
              "      <td>0</td>\n",
              "      <td>NaN</td>\n",
              "      <td>NaN</td>\n",
              "      <td>NaN</td>\n",
              "    </tr>\n",
              "    <tr>\n",
              "      <th>1</th>\n",
              "      <td>1</td>\n",
              "      <td>1</td>\n",
              "      <td>Sunrisers Hyderabad</td>\n",
              "      <td>Royal Challengers Bangalore</td>\n",
              "      <td>1</td>\n",
              "      <td>2</td>\n",
              "      <td>DA Warner</td>\n",
              "      <td>S Dhawan</td>\n",
              "      <td>TS Mills</td>\n",
              "      <td>0</td>\n",
              "      <td>0</td>\n",
              "      <td>0</td>\n",
              "      <td>0</td>\n",
              "      <td>0</td>\n",
              "      <td>0</td>\n",
              "      <td>0</td>\n",
              "      <td>0</td>\n",
              "      <td>0</td>\n",
              "      <td>NaN</td>\n",
              "      <td>NaN</td>\n",
              "      <td>NaN</td>\n",
              "    </tr>\n",
              "    <tr>\n",
              "      <th>2</th>\n",
              "      <td>1</td>\n",
              "      <td>1</td>\n",
              "      <td>Sunrisers Hyderabad</td>\n",
              "      <td>Royal Challengers Bangalore</td>\n",
              "      <td>1</td>\n",
              "      <td>3</td>\n",
              "      <td>DA Warner</td>\n",
              "      <td>S Dhawan</td>\n",
              "      <td>TS Mills</td>\n",
              "      <td>0</td>\n",
              "      <td>0</td>\n",
              "      <td>0</td>\n",
              "      <td>0</td>\n",
              "      <td>0</td>\n",
              "      <td>0</td>\n",
              "      <td>4</td>\n",
              "      <td>0</td>\n",
              "      <td>4</td>\n",
              "      <td>NaN</td>\n",
              "      <td>NaN</td>\n",
              "      <td>NaN</td>\n",
              "    </tr>\n",
              "    <tr>\n",
              "      <th>3</th>\n",
              "      <td>1</td>\n",
              "      <td>1</td>\n",
              "      <td>Sunrisers Hyderabad</td>\n",
              "      <td>Royal Challengers Bangalore</td>\n",
              "      <td>1</td>\n",
              "      <td>4</td>\n",
              "      <td>DA Warner</td>\n",
              "      <td>S Dhawan</td>\n",
              "      <td>TS Mills</td>\n",
              "      <td>0</td>\n",
              "      <td>0</td>\n",
              "      <td>0</td>\n",
              "      <td>0</td>\n",
              "      <td>0</td>\n",
              "      <td>0</td>\n",
              "      <td>0</td>\n",
              "      <td>0</td>\n",
              "      <td>0</td>\n",
              "      <td>NaN</td>\n",
              "      <td>NaN</td>\n",
              "      <td>NaN</td>\n",
              "    </tr>\n",
              "    <tr>\n",
              "      <th>4</th>\n",
              "      <td>1</td>\n",
              "      <td>1</td>\n",
              "      <td>Sunrisers Hyderabad</td>\n",
              "      <td>Royal Challengers Bangalore</td>\n",
              "      <td>1</td>\n",
              "      <td>5</td>\n",
              "      <td>DA Warner</td>\n",
              "      <td>S Dhawan</td>\n",
              "      <td>TS Mills</td>\n",
              "      <td>0</td>\n",
              "      <td>2</td>\n",
              "      <td>0</td>\n",
              "      <td>0</td>\n",
              "      <td>0</td>\n",
              "      <td>0</td>\n",
              "      <td>0</td>\n",
              "      <td>2</td>\n",
              "      <td>2</td>\n",
              "      <td>NaN</td>\n",
              "      <td>NaN</td>\n",
              "      <td>NaN</td>\n",
              "    </tr>\n",
              "  </tbody>\n",
              "</table>\n",
              "</div>"
            ],
            "text/plain": [
              "   match_id  inning  ... dismissal_kind fielder\n",
              "0         1       1  ...            NaN     NaN\n",
              "1         1       1  ...            NaN     NaN\n",
              "2         1       1  ...            NaN     NaN\n",
              "3         1       1  ...            NaN     NaN\n",
              "4         1       1  ...            NaN     NaN\n",
              "\n",
              "[5 rows x 21 columns]"
            ]
          },
          "metadata": {
            "tags": []
          },
          "execution_count": 61
        }
      ]
    },
    {
      "cell_type": "code",
      "metadata": {
        "id": "rdXymdklSaIT",
        "colab": {
          "base_uri": "https://localhost:8080/",
          "height": 446
        },
        "outputId": "9a213a4e-6bcd-42f8-9dbf-44f9b50c43ed"
      },
      "source": [
        "#Loading data into dataframe\n",
        "\n",
        "data_matches = pd.read_csv('matches.csv')\n",
        "data_matches.head()"
      ],
      "execution_count": 62,
      "outputs": [
        {
          "output_type": "execute_result",
          "data": {
            "text/html": [
              "<div>\n",
              "<style scoped>\n",
              "    .dataframe tbody tr th:only-of-type {\n",
              "        vertical-align: middle;\n",
              "    }\n",
              "\n",
              "    .dataframe tbody tr th {\n",
              "        vertical-align: top;\n",
              "    }\n",
              "\n",
              "    .dataframe thead th {\n",
              "        text-align: right;\n",
              "    }\n",
              "</style>\n",
              "<table border=\"1\" class=\"dataframe\">\n",
              "  <thead>\n",
              "    <tr style=\"text-align: right;\">\n",
              "      <th></th>\n",
              "      <th>id</th>\n",
              "      <th>season</th>\n",
              "      <th>city</th>\n",
              "      <th>date</th>\n",
              "      <th>team1</th>\n",
              "      <th>team2</th>\n",
              "      <th>toss_winner</th>\n",
              "      <th>toss_decision</th>\n",
              "      <th>result</th>\n",
              "      <th>dl_applied</th>\n",
              "      <th>winner</th>\n",
              "      <th>win_by_runs</th>\n",
              "      <th>win_by_wickets</th>\n",
              "      <th>player_of_match</th>\n",
              "      <th>venue</th>\n",
              "      <th>umpire1</th>\n",
              "      <th>umpire2</th>\n",
              "      <th>umpire3</th>\n",
              "    </tr>\n",
              "  </thead>\n",
              "  <tbody>\n",
              "    <tr>\n",
              "      <th>0</th>\n",
              "      <td>1</td>\n",
              "      <td>2017</td>\n",
              "      <td>Hyderabad</td>\n",
              "      <td>2017-04-05</td>\n",
              "      <td>Sunrisers Hyderabad</td>\n",
              "      <td>Royal Challengers Bangalore</td>\n",
              "      <td>Royal Challengers Bangalore</td>\n",
              "      <td>field</td>\n",
              "      <td>normal</td>\n",
              "      <td>0</td>\n",
              "      <td>Sunrisers Hyderabad</td>\n",
              "      <td>35</td>\n",
              "      <td>0</td>\n",
              "      <td>Yuvraj Singh</td>\n",
              "      <td>Rajiv Gandhi International Stadium, Uppal</td>\n",
              "      <td>AY Dandekar</td>\n",
              "      <td>NJ Llong</td>\n",
              "      <td>NaN</td>\n",
              "    </tr>\n",
              "    <tr>\n",
              "      <th>1</th>\n",
              "      <td>2</td>\n",
              "      <td>2017</td>\n",
              "      <td>Pune</td>\n",
              "      <td>2017-04-06</td>\n",
              "      <td>Mumbai Indians</td>\n",
              "      <td>Rising Pune Supergiant</td>\n",
              "      <td>Rising Pune Supergiant</td>\n",
              "      <td>field</td>\n",
              "      <td>normal</td>\n",
              "      <td>0</td>\n",
              "      <td>Rising Pune Supergiant</td>\n",
              "      <td>0</td>\n",
              "      <td>7</td>\n",
              "      <td>SPD Smith</td>\n",
              "      <td>Maharashtra Cricket Association Stadium</td>\n",
              "      <td>A Nand Kishore</td>\n",
              "      <td>S Ravi</td>\n",
              "      <td>NaN</td>\n",
              "    </tr>\n",
              "    <tr>\n",
              "      <th>2</th>\n",
              "      <td>3</td>\n",
              "      <td>2017</td>\n",
              "      <td>Rajkot</td>\n",
              "      <td>2017-04-07</td>\n",
              "      <td>Gujarat Lions</td>\n",
              "      <td>Kolkata Knight Riders</td>\n",
              "      <td>Kolkata Knight Riders</td>\n",
              "      <td>field</td>\n",
              "      <td>normal</td>\n",
              "      <td>0</td>\n",
              "      <td>Kolkata Knight Riders</td>\n",
              "      <td>0</td>\n",
              "      <td>10</td>\n",
              "      <td>CA Lynn</td>\n",
              "      <td>Saurashtra Cricket Association Stadium</td>\n",
              "      <td>Nitin Menon</td>\n",
              "      <td>CK Nandan</td>\n",
              "      <td>NaN</td>\n",
              "    </tr>\n",
              "    <tr>\n",
              "      <th>3</th>\n",
              "      <td>4</td>\n",
              "      <td>2017</td>\n",
              "      <td>Indore</td>\n",
              "      <td>2017-04-08</td>\n",
              "      <td>Rising Pune Supergiant</td>\n",
              "      <td>Kings XI Punjab</td>\n",
              "      <td>Kings XI Punjab</td>\n",
              "      <td>field</td>\n",
              "      <td>normal</td>\n",
              "      <td>0</td>\n",
              "      <td>Kings XI Punjab</td>\n",
              "      <td>0</td>\n",
              "      <td>6</td>\n",
              "      <td>GJ Maxwell</td>\n",
              "      <td>Holkar Cricket Stadium</td>\n",
              "      <td>AK Chaudhary</td>\n",
              "      <td>C Shamshuddin</td>\n",
              "      <td>NaN</td>\n",
              "    </tr>\n",
              "    <tr>\n",
              "      <th>4</th>\n",
              "      <td>5</td>\n",
              "      <td>2017</td>\n",
              "      <td>Bangalore</td>\n",
              "      <td>2017-04-08</td>\n",
              "      <td>Royal Challengers Bangalore</td>\n",
              "      <td>Delhi Daredevils</td>\n",
              "      <td>Royal Challengers Bangalore</td>\n",
              "      <td>bat</td>\n",
              "      <td>normal</td>\n",
              "      <td>0</td>\n",
              "      <td>Royal Challengers Bangalore</td>\n",
              "      <td>15</td>\n",
              "      <td>0</td>\n",
              "      <td>KM Jadhav</td>\n",
              "      <td>M Chinnaswamy Stadium</td>\n",
              "      <td>NaN</td>\n",
              "      <td>NaN</td>\n",
              "      <td>NaN</td>\n",
              "    </tr>\n",
              "  </tbody>\n",
              "</table>\n",
              "</div>"
            ],
            "text/plain": [
              "   id  season       city  ...         umpire1        umpire2 umpire3\n",
              "0   1    2017  Hyderabad  ...     AY Dandekar       NJ Llong     NaN\n",
              "1   2    2017       Pune  ...  A Nand Kishore         S Ravi     NaN\n",
              "2   3    2017     Rajkot  ...     Nitin Menon      CK Nandan     NaN\n",
              "3   4    2017     Indore  ...    AK Chaudhary  C Shamshuddin     NaN\n",
              "4   5    2017  Bangalore  ...             NaN            NaN     NaN\n",
              "\n",
              "[5 rows x 18 columns]"
            ]
          },
          "metadata": {
            "tags": []
          },
          "execution_count": 62
        }
      ]
    },
    {
      "cell_type": "markdown",
      "metadata": {
        "id": "htNu8pMuSdx4",
        "outputId": "22d72829-6369-45a4-d62d-56eace197052"
      },
      "source": [
        "## 2. Familiarizing with Data:\n",
        "In this step, few dataframe methods are used to look into the data and its features."
      ]
    },
    {
      "cell_type": "markdown",
      "metadata": {
        "id": "ehXVxUYz97qL"
      },
      "source": [
        "### *Analysing Deliveries Dataset*"
      ]
    },
    {
      "cell_type": "code",
      "metadata": {
        "colab": {
          "base_uri": "https://localhost:8080/"
        },
        "id": "M_Oi5nzH97qM",
        "outputId": "ec16b20d-e645-49e6-fc9c-1af1606fbd71"
      },
      "source": [
        "#Shape of dataframe\n",
        "\n",
        "data_deliveries.shape"
      ],
      "execution_count": 63,
      "outputs": [
        {
          "output_type": "execute_result",
          "data": {
            "text/plain": [
              "(179078, 21)"
            ]
          },
          "metadata": {
            "tags": []
          },
          "execution_count": 63
        }
      ]
    },
    {
      "cell_type": "code",
      "metadata": {
        "colab": {
          "base_uri": "https://localhost:8080/"
        },
        "id": "oMoePF4R97qN",
        "outputId": "bde7c15d-023b-443f-99e1-e22fea7aac37"
      },
      "source": [
        "#Listing the features of the dataset\n",
        "\n",
        "data_deliveries.columns"
      ],
      "execution_count": 64,
      "outputs": [
        {
          "output_type": "execute_result",
          "data": {
            "text/plain": [
              "Index(['match_id', 'inning', 'batting_team', 'bowling_team', 'over', 'ball',\n",
              "       'batsman', 'non_striker', 'bowler', 'is_super_over', 'wide_runs',\n",
              "       'bye_runs', 'legbye_runs', 'noball_runs', 'penalty_runs',\n",
              "       'batsman_runs', 'extra_runs', 'total_runs', 'player_dismissed',\n",
              "       'dismissal_kind', 'fielder'],\n",
              "      dtype='object')"
            ]
          },
          "metadata": {
            "tags": []
          },
          "execution_count": 64
        }
      ]
    },
    {
      "cell_type": "code",
      "metadata": {
        "colab": {
          "base_uri": "https://localhost:8080/"
        },
        "id": "CfQOiq-297qN",
        "outputId": "5648f914-0aea-4556-f663-42eba0c53a33"
      },
      "source": [
        "#Information about the dataset\n",
        "\n",
        "data_deliveries.info()"
      ],
      "execution_count": 65,
      "outputs": [
        {
          "output_type": "stream",
          "text": [
            "<class 'pandas.core.frame.DataFrame'>\n",
            "RangeIndex: 179078 entries, 0 to 179077\n",
            "Data columns (total 21 columns):\n",
            " #   Column            Non-Null Count   Dtype \n",
            "---  ------            --------------   ----- \n",
            " 0   match_id          179078 non-null  int64 \n",
            " 1   inning            179078 non-null  int64 \n",
            " 2   batting_team      179078 non-null  object\n",
            " 3   bowling_team      179078 non-null  object\n",
            " 4   over              179078 non-null  int64 \n",
            " 5   ball              179078 non-null  int64 \n",
            " 6   batsman           179078 non-null  object\n",
            " 7   non_striker       179078 non-null  object\n",
            " 8   bowler            179078 non-null  object\n",
            " 9   is_super_over     179078 non-null  int64 \n",
            " 10  wide_runs         179078 non-null  int64 \n",
            " 11  bye_runs          179078 non-null  int64 \n",
            " 12  legbye_runs       179078 non-null  int64 \n",
            " 13  noball_runs       179078 non-null  int64 \n",
            " 14  penalty_runs      179078 non-null  int64 \n",
            " 15  batsman_runs      179078 non-null  int64 \n",
            " 16  extra_runs        179078 non-null  int64 \n",
            " 17  total_runs        179078 non-null  int64 \n",
            " 18  player_dismissed  8834 non-null    object\n",
            " 19  dismissal_kind    8834 non-null    object\n",
            " 20  fielder           6448 non-null    object\n",
            "dtypes: int64(13), object(8)\n",
            "memory usage: 28.7+ MB\n"
          ],
          "name": "stdout"
        }
      ]
    },
    {
      "cell_type": "code",
      "metadata": {
        "colab": {
          "base_uri": "https://localhost:8080/"
        },
        "id": "FGJbiFZP97qO",
        "outputId": "36dad2c1-a6a4-4760-8fa9-f35e064b550a"
      },
      "source": [
        "#checking for null value\n",
        "\n",
        "data_deliveries.isna().sum()"
      ],
      "execution_count": 66,
      "outputs": [
        {
          "output_type": "execute_result",
          "data": {
            "text/plain": [
              "match_id                 0\n",
              "inning                   0\n",
              "batting_team             0\n",
              "bowling_team             0\n",
              "over                     0\n",
              "ball                     0\n",
              "batsman                  0\n",
              "non_striker              0\n",
              "bowler                   0\n",
              "is_super_over            0\n",
              "wide_runs                0\n",
              "bye_runs                 0\n",
              "legbye_runs              0\n",
              "noball_runs              0\n",
              "penalty_runs             0\n",
              "batsman_runs             0\n",
              "extra_runs               0\n",
              "total_runs               0\n",
              "player_dismissed    170244\n",
              "dismissal_kind      170244\n",
              "fielder             172630\n",
              "dtype: int64"
            ]
          },
          "metadata": {
            "tags": []
          },
          "execution_count": 66
        }
      ]
    },
    {
      "cell_type": "code",
      "metadata": {
        "colab": {
          "base_uri": "https://localhost:8080/",
          "height": 452
        },
        "id": "TE6VdFsE97qO",
        "outputId": "1d2702ab-e6c8-4655-a9b2-77a8154fabdb"
      },
      "source": [
        "# describtion of dataset\n",
        "\n",
        "data_deliveries.describe().T"
      ],
      "execution_count": 67,
      "outputs": [
        {
          "output_type": "execute_result",
          "data": {
            "text/html": [
              "<div>\n",
              "<style scoped>\n",
              "    .dataframe tbody tr th:only-of-type {\n",
              "        vertical-align: middle;\n",
              "    }\n",
              "\n",
              "    .dataframe tbody tr th {\n",
              "        vertical-align: top;\n",
              "    }\n",
              "\n",
              "    .dataframe thead th {\n",
              "        text-align: right;\n",
              "    }\n",
              "</style>\n",
              "<table border=\"1\" class=\"dataframe\">\n",
              "  <thead>\n",
              "    <tr style=\"text-align: right;\">\n",
              "      <th></th>\n",
              "      <th>count</th>\n",
              "      <th>mean</th>\n",
              "      <th>std</th>\n",
              "      <th>min</th>\n",
              "      <th>25%</th>\n",
              "      <th>50%</th>\n",
              "      <th>75%</th>\n",
              "      <th>max</th>\n",
              "    </tr>\n",
              "  </thead>\n",
              "  <tbody>\n",
              "    <tr>\n",
              "      <th>match_id</th>\n",
              "      <td>179078.0</td>\n",
              "      <td>1802.252957</td>\n",
              "      <td>3472.322805</td>\n",
              "      <td>1.0</td>\n",
              "      <td>190.0</td>\n",
              "      <td>379.0</td>\n",
              "      <td>567.0</td>\n",
              "      <td>11415.0</td>\n",
              "    </tr>\n",
              "    <tr>\n",
              "      <th>inning</th>\n",
              "      <td>179078.0</td>\n",
              "      <td>1.482952</td>\n",
              "      <td>0.502074</td>\n",
              "      <td>1.0</td>\n",
              "      <td>1.0</td>\n",
              "      <td>1.0</td>\n",
              "      <td>2.0</td>\n",
              "      <td>5.0</td>\n",
              "    </tr>\n",
              "    <tr>\n",
              "      <th>over</th>\n",
              "      <td>179078.0</td>\n",
              "      <td>10.162488</td>\n",
              "      <td>5.677684</td>\n",
              "      <td>1.0</td>\n",
              "      <td>5.0</td>\n",
              "      <td>10.0</td>\n",
              "      <td>15.0</td>\n",
              "      <td>20.0</td>\n",
              "    </tr>\n",
              "    <tr>\n",
              "      <th>ball</th>\n",
              "      <td>179078.0</td>\n",
              "      <td>3.615587</td>\n",
              "      <td>1.806966</td>\n",
              "      <td>1.0</td>\n",
              "      <td>2.0</td>\n",
              "      <td>4.0</td>\n",
              "      <td>5.0</td>\n",
              "      <td>9.0</td>\n",
              "    </tr>\n",
              "    <tr>\n",
              "      <th>is_super_over</th>\n",
              "      <td>179078.0</td>\n",
              "      <td>0.000452</td>\n",
              "      <td>0.021263</td>\n",
              "      <td>0.0</td>\n",
              "      <td>0.0</td>\n",
              "      <td>0.0</td>\n",
              "      <td>0.0</td>\n",
              "      <td>1.0</td>\n",
              "    </tr>\n",
              "    <tr>\n",
              "      <th>wide_runs</th>\n",
              "      <td>179078.0</td>\n",
              "      <td>0.036721</td>\n",
              "      <td>0.251161</td>\n",
              "      <td>0.0</td>\n",
              "      <td>0.0</td>\n",
              "      <td>0.0</td>\n",
              "      <td>0.0</td>\n",
              "      <td>5.0</td>\n",
              "    </tr>\n",
              "    <tr>\n",
              "      <th>bye_runs</th>\n",
              "      <td>179078.0</td>\n",
              "      <td>0.004936</td>\n",
              "      <td>0.116480</td>\n",
              "      <td>0.0</td>\n",
              "      <td>0.0</td>\n",
              "      <td>0.0</td>\n",
              "      <td>0.0</td>\n",
              "      <td>4.0</td>\n",
              "    </tr>\n",
              "    <tr>\n",
              "      <th>legbye_runs</th>\n",
              "      <td>179078.0</td>\n",
              "      <td>0.021136</td>\n",
              "      <td>0.194908</td>\n",
              "      <td>0.0</td>\n",
              "      <td>0.0</td>\n",
              "      <td>0.0</td>\n",
              "      <td>0.0</td>\n",
              "      <td>5.0</td>\n",
              "    </tr>\n",
              "    <tr>\n",
              "      <th>noball_runs</th>\n",
              "      <td>179078.0</td>\n",
              "      <td>0.004183</td>\n",
              "      <td>0.070492</td>\n",
              "      <td>0.0</td>\n",
              "      <td>0.0</td>\n",
              "      <td>0.0</td>\n",
              "      <td>0.0</td>\n",
              "      <td>5.0</td>\n",
              "    </tr>\n",
              "    <tr>\n",
              "      <th>penalty_runs</th>\n",
              "      <td>179078.0</td>\n",
              "      <td>0.000056</td>\n",
              "      <td>0.016709</td>\n",
              "      <td>0.0</td>\n",
              "      <td>0.0</td>\n",
              "      <td>0.0</td>\n",
              "      <td>0.0</td>\n",
              "      <td>5.0</td>\n",
              "    </tr>\n",
              "    <tr>\n",
              "      <th>batsman_runs</th>\n",
              "      <td>179078.0</td>\n",
              "      <td>1.246864</td>\n",
              "      <td>1.608270</td>\n",
              "      <td>0.0</td>\n",
              "      <td>0.0</td>\n",
              "      <td>1.0</td>\n",
              "      <td>1.0</td>\n",
              "      <td>7.0</td>\n",
              "    </tr>\n",
              "    <tr>\n",
              "      <th>extra_runs</th>\n",
              "      <td>179078.0</td>\n",
              "      <td>0.067032</td>\n",
              "      <td>0.342553</td>\n",
              "      <td>0.0</td>\n",
              "      <td>0.0</td>\n",
              "      <td>0.0</td>\n",
              "      <td>0.0</td>\n",
              "      <td>7.0</td>\n",
              "    </tr>\n",
              "    <tr>\n",
              "      <th>total_runs</th>\n",
              "      <td>179078.0</td>\n",
              "      <td>1.313897</td>\n",
              "      <td>1.605422</td>\n",
              "      <td>0.0</td>\n",
              "      <td>0.0</td>\n",
              "      <td>1.0</td>\n",
              "      <td>1.0</td>\n",
              "      <td>10.0</td>\n",
              "    </tr>\n",
              "  </tbody>\n",
              "</table>\n",
              "</div>"
            ],
            "text/plain": [
              "                  count         mean          std  ...    50%    75%      max\n",
              "match_id       179078.0  1802.252957  3472.322805  ...  379.0  567.0  11415.0\n",
              "inning         179078.0     1.482952     0.502074  ...    1.0    2.0      5.0\n",
              "over           179078.0    10.162488     5.677684  ...   10.0   15.0     20.0\n",
              "ball           179078.0     3.615587     1.806966  ...    4.0    5.0      9.0\n",
              "is_super_over  179078.0     0.000452     0.021263  ...    0.0    0.0      1.0\n",
              "wide_runs      179078.0     0.036721     0.251161  ...    0.0    0.0      5.0\n",
              "bye_runs       179078.0     0.004936     0.116480  ...    0.0    0.0      4.0\n",
              "legbye_runs    179078.0     0.021136     0.194908  ...    0.0    0.0      5.0\n",
              "noball_runs    179078.0     0.004183     0.070492  ...    0.0    0.0      5.0\n",
              "penalty_runs   179078.0     0.000056     0.016709  ...    0.0    0.0      5.0\n",
              "batsman_runs   179078.0     1.246864     1.608270  ...    1.0    1.0      7.0\n",
              "extra_runs     179078.0     0.067032     0.342553  ...    0.0    0.0      7.0\n",
              "total_runs     179078.0     1.313897     1.605422  ...    1.0    1.0     10.0\n",
              "\n",
              "[13 rows x 8 columns]"
            ]
          },
          "metadata": {
            "tags": []
          },
          "execution_count": 67
        }
      ]
    },
    {
      "cell_type": "code",
      "metadata": {
        "colab": {
          "base_uri": "https://localhost:8080/"
        },
        "id": "S-1u8VmL97qP",
        "outputId": "f2df416d-d0ab-4149-9327-56dc6213f216"
      },
      "source": [
        "#unique value in dataset\n",
        "\n",
        "data_deliveries.nunique()                                    "
      ],
      "execution_count": 68,
      "outputs": [
        {
          "output_type": "execute_result",
          "data": {
            "text/plain": [
              "match_id            756\n",
              "inning                5\n",
              "batting_team         15\n",
              "bowling_team         15\n",
              "over                 20\n",
              "ball                  9\n",
              "batsman             516\n",
              "non_striker         511\n",
              "bowler              405\n",
              "is_super_over         2\n",
              "wide_runs             6\n",
              "bye_runs              5\n",
              "legbye_runs           6\n",
              "noball_runs           5\n",
              "penalty_runs          2\n",
              "batsman_runs          8\n",
              "extra_runs            7\n",
              "total_runs           10\n",
              "player_dismissed    487\n",
              "dismissal_kind        9\n",
              "fielder             499\n",
              "dtype: int64"
            ]
          },
          "metadata": {
            "tags": []
          },
          "execution_count": 68
        }
      ]
    },
    {
      "cell_type": "markdown",
      "metadata": {
        "id": "n2c8H-uN97qP"
      },
      "source": [
        "### *Analysing Matches Dataset*"
      ]
    },
    {
      "cell_type": "code",
      "metadata": {
        "colab": {
          "base_uri": "https://localhost:8080/"
        },
        "id": "GtyUVg9C97qP",
        "outputId": "0410c07c-e6ce-45e5-9671-1d6fda7b4149"
      },
      "source": [
        "#Shape of dataframe\n",
        "\n",
        "data_matches.shape"
      ],
      "execution_count": 69,
      "outputs": [
        {
          "output_type": "execute_result",
          "data": {
            "text/plain": [
              "(756, 18)"
            ]
          },
          "metadata": {
            "tags": []
          },
          "execution_count": 69
        }
      ]
    },
    {
      "cell_type": "code",
      "metadata": {
        "colab": {
          "base_uri": "https://localhost:8080/"
        },
        "id": "W7tGiwUr97qQ",
        "outputId": "0fef8c3c-e625-45e1-db1b-b8739665fc84"
      },
      "source": [
        "#Listing the features of the dataset\n",
        "\n",
        "data_matches.columns"
      ],
      "execution_count": 70,
      "outputs": [
        {
          "output_type": "execute_result",
          "data": {
            "text/plain": [
              "Index(['id', 'season', 'city', 'date', 'team1', 'team2', 'toss_winner',\n",
              "       'toss_decision', 'result', 'dl_applied', 'winner', 'win_by_runs',\n",
              "       'win_by_wickets', 'player_of_match', 'venue', 'umpire1', 'umpire2',\n",
              "       'umpire3'],\n",
              "      dtype='object')"
            ]
          },
          "metadata": {
            "tags": []
          },
          "execution_count": 70
        }
      ]
    },
    {
      "cell_type": "code",
      "metadata": {
        "colab": {
          "base_uri": "https://localhost:8080/"
        },
        "id": "0BqYpEcL97qQ",
        "outputId": "d5657f89-c7fa-4b22-d709-da5c95e97346"
      },
      "source": [
        "#Information about the dataset\n",
        "\n",
        "data_matches.info()"
      ],
      "execution_count": 71,
      "outputs": [
        {
          "output_type": "stream",
          "text": [
            "<class 'pandas.core.frame.DataFrame'>\n",
            "RangeIndex: 756 entries, 0 to 755\n",
            "Data columns (total 18 columns):\n",
            " #   Column           Non-Null Count  Dtype \n",
            "---  ------           --------------  ----- \n",
            " 0   id               756 non-null    int64 \n",
            " 1   season           756 non-null    int64 \n",
            " 2   city             749 non-null    object\n",
            " 3   date             756 non-null    object\n",
            " 4   team1            756 non-null    object\n",
            " 5   team2            756 non-null    object\n",
            " 6   toss_winner      756 non-null    object\n",
            " 7   toss_decision    756 non-null    object\n",
            " 8   result           756 non-null    object\n",
            " 9   dl_applied       756 non-null    int64 \n",
            " 10  winner           752 non-null    object\n",
            " 11  win_by_runs      756 non-null    int64 \n",
            " 12  win_by_wickets   756 non-null    int64 \n",
            " 13  player_of_match  752 non-null    object\n",
            " 14  venue            756 non-null    object\n",
            " 15  umpire1          754 non-null    object\n",
            " 16  umpire2          754 non-null    object\n",
            " 17  umpire3          119 non-null    object\n",
            "dtypes: int64(5), object(13)\n",
            "memory usage: 106.4+ KB\n"
          ],
          "name": "stdout"
        }
      ]
    },
    {
      "cell_type": "code",
      "metadata": {
        "colab": {
          "base_uri": "https://localhost:8080/"
        },
        "id": "93bWnMiv97qQ",
        "outputId": "0f19d9e0-438c-41e2-f0ac-839997802c76"
      },
      "source": [
        "#checking for null value\n",
        "\n",
        "data_matches.isna().sum()"
      ],
      "execution_count": 72,
      "outputs": [
        {
          "output_type": "execute_result",
          "data": {
            "text/plain": [
              "id                   0\n",
              "season               0\n",
              "city                 7\n",
              "date                 0\n",
              "team1                0\n",
              "team2                0\n",
              "toss_winner          0\n",
              "toss_decision        0\n",
              "result               0\n",
              "dl_applied           0\n",
              "winner               4\n",
              "win_by_runs          0\n",
              "win_by_wickets       0\n",
              "player_of_match      4\n",
              "venue                0\n",
              "umpire1              2\n",
              "umpire2              2\n",
              "umpire3            637\n",
              "dtype: int64"
            ]
          },
          "metadata": {
            "tags": []
          },
          "execution_count": 72
        }
      ]
    },
    {
      "cell_type": "code",
      "metadata": {
        "colab": {
          "base_uri": "https://localhost:8080/",
          "height": 204
        },
        "id": "DcdLxHCg97qR",
        "outputId": "b5fe6ebe-f1ea-4a8b-9008-176ce5133b91"
      },
      "source": [
        "# describtion of dataset\n",
        "\n",
        "data_matches.describe().T"
      ],
      "execution_count": 73,
      "outputs": [
        {
          "output_type": "execute_result",
          "data": {
            "text/html": [
              "<div>\n",
              "<style scoped>\n",
              "    .dataframe tbody tr th:only-of-type {\n",
              "        vertical-align: middle;\n",
              "    }\n",
              "\n",
              "    .dataframe tbody tr th {\n",
              "        vertical-align: top;\n",
              "    }\n",
              "\n",
              "    .dataframe thead th {\n",
              "        text-align: right;\n",
              "    }\n",
              "</style>\n",
              "<table border=\"1\" class=\"dataframe\">\n",
              "  <thead>\n",
              "    <tr style=\"text-align: right;\">\n",
              "      <th></th>\n",
              "      <th>count</th>\n",
              "      <th>mean</th>\n",
              "      <th>std</th>\n",
              "      <th>min</th>\n",
              "      <th>25%</th>\n",
              "      <th>50%</th>\n",
              "      <th>75%</th>\n",
              "      <th>max</th>\n",
              "    </tr>\n",
              "  </thead>\n",
              "  <tbody>\n",
              "    <tr>\n",
              "      <th>id</th>\n",
              "      <td>756.0</td>\n",
              "      <td>1792.178571</td>\n",
              "      <td>3464.478148</td>\n",
              "      <td>1.0</td>\n",
              "      <td>189.75</td>\n",
              "      <td>378.5</td>\n",
              "      <td>567.25</td>\n",
              "      <td>11415.0</td>\n",
              "    </tr>\n",
              "    <tr>\n",
              "      <th>season</th>\n",
              "      <td>756.0</td>\n",
              "      <td>2013.444444</td>\n",
              "      <td>3.366895</td>\n",
              "      <td>2008.0</td>\n",
              "      <td>2011.00</td>\n",
              "      <td>2013.0</td>\n",
              "      <td>2016.00</td>\n",
              "      <td>2019.0</td>\n",
              "    </tr>\n",
              "    <tr>\n",
              "      <th>dl_applied</th>\n",
              "      <td>756.0</td>\n",
              "      <td>0.025132</td>\n",
              "      <td>0.156630</td>\n",
              "      <td>0.0</td>\n",
              "      <td>0.00</td>\n",
              "      <td>0.0</td>\n",
              "      <td>0.00</td>\n",
              "      <td>1.0</td>\n",
              "    </tr>\n",
              "    <tr>\n",
              "      <th>win_by_runs</th>\n",
              "      <td>756.0</td>\n",
              "      <td>13.283069</td>\n",
              "      <td>23.471144</td>\n",
              "      <td>0.0</td>\n",
              "      <td>0.00</td>\n",
              "      <td>0.0</td>\n",
              "      <td>19.00</td>\n",
              "      <td>146.0</td>\n",
              "    </tr>\n",
              "    <tr>\n",
              "      <th>win_by_wickets</th>\n",
              "      <td>756.0</td>\n",
              "      <td>3.350529</td>\n",
              "      <td>3.387963</td>\n",
              "      <td>0.0</td>\n",
              "      <td>0.00</td>\n",
              "      <td>4.0</td>\n",
              "      <td>6.00</td>\n",
              "      <td>10.0</td>\n",
              "    </tr>\n",
              "  </tbody>\n",
              "</table>\n",
              "</div>"
            ],
            "text/plain": [
              "                count         mean          std  ...     50%      75%      max\n",
              "id              756.0  1792.178571  3464.478148  ...   378.5   567.25  11415.0\n",
              "season          756.0  2013.444444     3.366895  ...  2013.0  2016.00   2019.0\n",
              "dl_applied      756.0     0.025132     0.156630  ...     0.0     0.00      1.0\n",
              "win_by_runs     756.0    13.283069    23.471144  ...     0.0    19.00    146.0\n",
              "win_by_wickets  756.0     3.350529     3.387963  ...     4.0     6.00     10.0\n",
              "\n",
              "[5 rows x 8 columns]"
            ]
          },
          "metadata": {
            "tags": []
          },
          "execution_count": 73
        }
      ]
    },
    {
      "cell_type": "code",
      "metadata": {
        "colab": {
          "base_uri": "https://localhost:8080/"
        },
        "id": "TMSZ2JMr97qR",
        "outputId": "bb6a4913-1bd1-4897-f47b-f071add5fe13"
      },
      "source": [
        "#unique value in dataset\n",
        "\n",
        "data_matches.nunique()                                    "
      ],
      "execution_count": 74,
      "outputs": [
        {
          "output_type": "execute_result",
          "data": {
            "text/plain": [
              "id                 756\n",
              "season              12\n",
              "city                32\n",
              "date               546\n",
              "team1               15\n",
              "team2               15\n",
              "toss_winner         15\n",
              "toss_decision        2\n",
              "result               3\n",
              "dl_applied           2\n",
              "winner              15\n",
              "win_by_runs         89\n",
              "win_by_wickets      11\n",
              "player_of_match    226\n",
              "venue               41\n",
              "umpire1             61\n",
              "umpire2             65\n",
              "umpire3             25\n",
              "dtype: int64"
            ]
          },
          "metadata": {
            "tags": []
          },
          "execution_count": 74
        }
      ]
    },
    {
      "cell_type": "code",
      "metadata": {
        "id": "-MuJIxS7TAlT"
      },
      "source": [
        "data_matches.rename(columns={'win_by_runs':'Bat_1', 'win_by_wickets':'Ball_1'}, inplace=True)"
      ],
      "execution_count": 75,
      "outputs": []
    },
    {
      "cell_type": "code",
      "metadata": {
        "colab": {
          "base_uri": "https://localhost:8080/"
        },
        "id": "7ddYFmdqTJnl",
        "outputId": "c222d199-4d47-40dd-ed9b-e4a5f7a4cae3"
      },
      "source": [
        "print(\"City in which most matches have been won        :\",data_matches['city'].value_counts().idxmax()) \n",
        "print(\"Team that has won most matches                  :\",data_matches['winner'].value_counts().idxmax()) \n",
        "print(\"Player who has been man of the match most times :\",data_matches['player_of_match'].value_counts().idxmax()) \n",
        "print(\"Most frequent Umpire 1                          :\" ,data_matches['umpire1'].value_counts().idxmax())\n",
        "print(\"Most frequent Umpire 2                          :\" ,data_matches['umpire2'].value_counts().idxmax())"
      ],
      "execution_count": 76,
      "outputs": [
        {
          "output_type": "stream",
          "text": [
            "City in which most matches have been won        : Mumbai\n",
            "Team that has won most matches                  : Mumbai Indians\n",
            "Player who has been man of the match most times : CH Gayle\n",
            "Most frequent Umpire 1                          : HDPK Dharmasena\n",
            "Most frequent Umpire 2                          : C Shamshuddin\n"
          ],
          "name": "stdout"
        }
      ]
    },
    {
      "cell_type": "code",
      "metadata": {
        "id": "sW2I2gK7TXSP"
      },
      "source": [
        "data_matches['city'].fillna(value='Mumbai', inplace=True)\n",
        "data_matches['winner'].fillna(value='Mumbai Indians', inplace=True)\n",
        "data_matches['player_of_match'].fillna(value='CH Gayle', inplace=True)\n",
        "data_matches['umpire1'].fillna(value='HDPK Dharmasena', inplace=True)\n",
        "data_matches['umpire2'].fillna(value='C Shamshuddin', inplace=True)\n",
        "data_matches['umpire3'].fillna(value='NA', inplace=True)"
      ],
      "execution_count": 77,
      "outputs": []
    },
    {
      "cell_type": "code",
      "metadata": {
        "colab": {
          "base_uri": "https://localhost:8080/"
        },
        "id": "jE4rjGzMTXUy",
        "outputId": "97478f1e-5bb9-4da1-86d1-456a4b907d92"
      },
      "source": [
        "data_matches.isnull().sum()"
      ],
      "execution_count": 78,
      "outputs": [
        {
          "output_type": "execute_result",
          "data": {
            "text/plain": [
              "id                 0\n",
              "season             0\n",
              "city               0\n",
              "date               0\n",
              "team1              0\n",
              "team2              0\n",
              "toss_winner        0\n",
              "toss_decision      0\n",
              "result             0\n",
              "dl_applied         0\n",
              "winner             0\n",
              "Bat_1              0\n",
              "Ball_1             0\n",
              "player_of_match    0\n",
              "venue              0\n",
              "umpire1            0\n",
              "umpire2            0\n",
              "umpire3            0\n",
              "dtype: int64"
            ]
          },
          "metadata": {
            "tags": []
          },
          "execution_count": 78
        }
      ]
    },
    {
      "cell_type": "code",
      "metadata": {
        "colab": {
          "base_uri": "https://localhost:8080/"
        },
        "id": "FRm4Bw_gTqYn",
        "outputId": "0827939e-6244-4c3d-8730-07fb0c48adcf"
      },
      "source": [
        "data_matches.duplicated().sum()"
      ],
      "execution_count": 79,
      "outputs": [
        {
          "output_type": "execute_result",
          "data": {
            "text/plain": [
              "0"
            ]
          },
          "metadata": {
            "tags": []
          },
          "execution_count": 79
        }
      ]
    },
    {
      "cell_type": "markdown",
      "metadata": {
        "id": "-Hl2bmYWTqk-"
      },
      "source": [
        "Here we do not have any duplicated values."
      ]
    },
    {
      "cell_type": "markdown",
      "metadata": {
        "id": "4sWXjJOeT1_s"
      },
      "source": [
        "## 3. Visualizing the data:\n",
        "Few plots and graphs are displayed to find how the data is distributed and the how features are related to each other."
      ]
    },
    {
      "cell_type": "markdown",
      "metadata": {
        "id": "96jO0cThT5b7"
      },
      "source": [
        "### Finding Top Teams and Players"
      ]
    },
    {
      "cell_type": "code",
      "metadata": {
        "colab": {
          "base_uri": "https://localhost:8080/",
          "height": 538
        },
        "id": "TuIl4XbnT3g3",
        "outputId": "1337bbac-c6ec-4e46-aaec-90564795cbdd"
      },
      "source": [
        "plt.figure(figsize=(10,6))\n",
        "\"\"\"style1  = {'family': 'Times New Roman', 'color': 'Tomato', 'size': 25}\n",
        "style2  = {'family': 'Times New Roman', 'color': 'DodgerBlue', 'size': 20}\"\"\"\n",
        "sns.barplot( data_matches['toss_winner'].value_counts().index,data_matches['toss_winner'].value_counts().values)\n",
        "plt.title('Toss Win Count by Team' )\n",
        "plt.xlabel('Players' )\n",
        "plt.xticks(rotation=90)\n",
        "plt.ylabel('Count' )\n",
        "plt.show()"
      ],
      "execution_count": 80,
      "outputs": [
        {
          "output_type": "display_data",
          "data": {
            "image/png": "[encoded data removed]",
            "text/plain": [
              "<Figure size 720x432 with 1 Axes>"
            ]
          },
          "metadata": {
            "tags": [],
            "needs_background": "light"
          }
        }
      ]
    },
    {
      "cell_type": "code",
      "metadata": {
        "colab": {
          "base_uri": "https://localhost:8080/",
          "height": 513
        },
        "id": "MxytTOo5UH81",
        "outputId": "41a0f6c4-cd79-4e88-873f-e10bd07b0c2e"
      },
      "source": [
        "plt.subplots(figsize=(15,8))\n",
        "\"\"\"style1  = {'family': 'Times New Roman', 'color': 'Tomato', 'size': 25}\n",
        "style2  = {'family': 'Times New Roman', 'color': 'DodgerBlue', 'size': 20}\"\"\"\n",
        "sns.barplot(data_matches['player_of_match'].value_counts()[:10].index, data_matches['player_of_match'].value_counts()[:10].values)\n",
        "plt.title('Top 10 Players of Match')\n",
        "plt.xlabel('Players' )\n",
        "plt.ylabel('Count')\n",
        "plt.show()"
      ],
      "execution_count": 81,
      "outputs": [
        {
          "output_type": "display_data",
          "data": {
            "image/png": "[encoded data removed]",
            "text/plain": [
              "<Figure size 1080x576 with 1 Axes>"
            ]
          },
          "metadata": {
            "tags": [],
            "needs_background": "light"
          }
        }
      ]
    },
    {
      "cell_type": "markdown",
      "metadata": {
        "id": "_NTpm_AJURYB"
      },
      "source": [
        "Best Team is Mumbai Indians.\n",
        "Best Player is CH Gayle."
      ]
    },
    {
      "cell_type": "markdown",
      "metadata": {
        "id": "6_XjmM9_UXOW"
      },
      "source": [
        "### Finding the Factors Affecting the Victory"
      ]
    },
    {
      "cell_type": "code",
      "metadata": {
        "colab": {
          "base_uri": "https://localhost:8080/",
          "height": 204
        },
        "id": "avE37ern97qT",
        "outputId": "608f3d01-581d-4bd4-aa91-ca246a289010"
      },
      "source": [
        "data_matches.corr().abs()"
      ],
      "execution_count": 82,
      "outputs": [
        {
          "output_type": "execute_result",
          "data": {
            "text/html": [
              "<div>\n",
              "<style scoped>\n",
              "    .dataframe tbody tr th:only-of-type {\n",
              "        vertical-align: middle;\n",
              "    }\n",
              "\n",
              "    .dataframe tbody tr th {\n",
              "        vertical-align: top;\n",
              "    }\n",
              "\n",
              "    .dataframe thead th {\n",
              "        text-align: right;\n",
              "    }\n",
              "</style>\n",
              "<table border=\"1\" class=\"dataframe\">\n",
              "  <thead>\n",
              "    <tr style=\"text-align: right;\">\n",
              "      <th></th>\n",
              "      <th>id</th>\n",
              "      <th>season</th>\n",
              "      <th>dl_applied</th>\n",
              "      <th>Bat_1</th>\n",
              "      <th>Ball_1</th>\n",
              "    </tr>\n",
              "  </thead>\n",
              "  <tbody>\n",
              "    <tr>\n",
              "      <th>id</th>\n",
              "      <td>1.000000</td>\n",
              "      <td>0.668304</td>\n",
              "      <td>0.011658</td>\n",
              "      <td>0.039403</td>\n",
              "      <td>0.012239</td>\n",
              "    </tr>\n",
              "    <tr>\n",
              "      <th>season</th>\n",
              "      <td>0.668304</td>\n",
              "      <td>1.000000</td>\n",
              "      <td>0.001116</td>\n",
              "      <td>0.037529</td>\n",
              "      <td>0.009379</td>\n",
              "    </tr>\n",
              "    <tr>\n",
              "      <th>dl_applied</th>\n",
              "      <td>0.011658</td>\n",
              "      <td>0.001116</td>\n",
              "      <td>1.000000</td>\n",
              "      <td>0.016349</td>\n",
              "      <td>0.011631</td>\n",
              "    </tr>\n",
              "    <tr>\n",
              "      <th>Bat_1</th>\n",
              "      <td>0.039403</td>\n",
              "      <td>0.037529</td>\n",
              "      <td>0.016349</td>\n",
              "      <td>1.000000</td>\n",
              "      <td>0.560420</td>\n",
              "    </tr>\n",
              "    <tr>\n",
              "      <th>Ball_1</th>\n",
              "      <td>0.012239</td>\n",
              "      <td>0.009379</td>\n",
              "      <td>0.011631</td>\n",
              "      <td>0.560420</td>\n",
              "      <td>1.000000</td>\n",
              "    </tr>\n",
              "  </tbody>\n",
              "</table>\n",
              "</div>"
            ],
            "text/plain": [
              "                  id    season  dl_applied     Bat_1    Ball_1\n",
              "id          1.000000  0.668304    0.011658  0.039403  0.012239\n",
              "season      0.668304  1.000000    0.001116  0.037529  0.009379\n",
              "dl_applied  0.011658  0.001116    1.000000  0.016349  0.011631\n",
              "Bat_1       0.039403  0.037529    0.016349  1.000000  0.560420\n",
              "Ball_1      0.012239  0.009379    0.011631  0.560420  1.000000"
            ]
          },
          "metadata": {
            "tags": []
          },
          "execution_count": 82
        }
      ]
    },
    {
      "cell_type": "code",
      "metadata": {
        "colab": {
          "base_uri": "https://localhost:8080/",
          "height": 270
        },
        "id": "JKccOF7OUbH7",
        "outputId": "30cf6c72-c4b9-4626-ec02-97750c05af67"
      },
      "source": [
        "sns.heatmap(data_matches.corr(), annot=True, cmap='magma');"
      ],
      "execution_count": 83,
      "outputs": [
        {
          "output_type": "display_data",
          "data": {
            "image/png": "[encoded data removed]",
            "text/plain": [
              "<Figure size 432x288 with 2 Axes>"
            ]
          },
          "metadata": {
            "tags": [],
            "needs_background": "light"
          }
        }
      ]
    },
    {
      "cell_type": "code",
      "metadata": {
        "id": "wwKHm2JJUjhs",
        "colab": {
          "base_uri": "https://localhost:8080/",
          "height": 446
        },
        "outputId": "c7b7e0d6-c621-4221-ace1-3366b85a3241"
      },
      "source": [
        "data_matches= data_matches.drop(['dl_applied', 'season'], axis=1)\n",
        "data_matches.head()"
      ],
      "execution_count": 84,
      "outputs": [
        {
          "output_type": "execute_result",
          "data": {
            "text/html": [
              "<div>\n",
              "<style scoped>\n",
              "    .dataframe tbody tr th:only-of-type {\n",
              "        vertical-align: middle;\n",
              "    }\n",
              "\n",
              "    .dataframe tbody tr th {\n",
              "        vertical-align: top;\n",
              "    }\n",
              "\n",
              "    .dataframe thead th {\n",
              "        text-align: right;\n",
              "    }\n",
              "</style>\n",
              "<table border=\"1\" class=\"dataframe\">\n",
              "  <thead>\n",
              "    <tr style=\"text-align: right;\">\n",
              "      <th></th>\n",
              "      <th>id</th>\n",
              "      <th>city</th>\n",
              "      <th>date</th>\n",
              "      <th>team1</th>\n",
              "      <th>team2</th>\n",
              "      <th>toss_winner</th>\n",
              "      <th>toss_decision</th>\n",
              "      <th>result</th>\n",
              "      <th>winner</th>\n",
              "      <th>Bat_1</th>\n",
              "      <th>Ball_1</th>\n",
              "      <th>player_of_match</th>\n",
              "      <th>venue</th>\n",
              "      <th>umpire1</th>\n",
              "      <th>umpire2</th>\n",
              "      <th>umpire3</th>\n",
              "    </tr>\n",
              "  </thead>\n",
              "  <tbody>\n",
              "    <tr>\n",
              "      <th>0</th>\n",
              "      <td>1</td>\n",
              "      <td>Hyderabad</td>\n",
              "      <td>2017-04-05</td>\n",
              "      <td>Sunrisers Hyderabad</td>\n",
              "      <td>Royal Challengers Bangalore</td>\n",
              "      <td>Royal Challengers Bangalore</td>\n",
              "      <td>field</td>\n",
              "      <td>normal</td>\n",
              "      <td>Sunrisers Hyderabad</td>\n",
              "      <td>35</td>\n",
              "      <td>0</td>\n",
              "      <td>Yuvraj Singh</td>\n",
              "      <td>Rajiv Gandhi International Stadium, Uppal</td>\n",
              "      <td>AY Dandekar</td>\n",
              "      <td>NJ Llong</td>\n",
              "      <td>NA</td>\n",
              "    </tr>\n",
              "    <tr>\n",
              "      <th>1</th>\n",
              "      <td>2</td>\n",
              "      <td>Pune</td>\n",
              "      <td>2017-04-06</td>\n",
              "      <td>Mumbai Indians</td>\n",
              "      <td>Rising Pune Supergiant</td>\n",
              "      <td>Rising Pune Supergiant</td>\n",
              "      <td>field</td>\n",
              "      <td>normal</td>\n",
              "      <td>Rising Pune Supergiant</td>\n",
              "      <td>0</td>\n",
              "      <td>7</td>\n",
              "      <td>SPD Smith</td>\n",
              "      <td>Maharashtra Cricket Association Stadium</td>\n",
              "      <td>A Nand Kishore</td>\n",
              "      <td>S Ravi</td>\n",
              "      <td>NA</td>\n",
              "    </tr>\n",
              "    <tr>\n",
              "      <th>2</th>\n",
              "      <td>3</td>\n",
              "      <td>Rajkot</td>\n",
              "      <td>2017-04-07</td>\n",
              "      <td>Gujarat Lions</td>\n",
              "      <td>Kolkata Knight Riders</td>\n",
              "      <td>Kolkata Knight Riders</td>\n",
              "      <td>field</td>\n",
              "      <td>normal</td>\n",
              "      <td>Kolkata Knight Riders</td>\n",
              "      <td>0</td>\n",
              "      <td>10</td>\n",
              "      <td>CA Lynn</td>\n",
              "      <td>Saurashtra Cricket Association Stadium</td>\n",
              "      <td>Nitin Menon</td>\n",
              "      <td>CK Nandan</td>\n",
              "      <td>NA</td>\n",
              "    </tr>\n",
              "    <tr>\n",
              "      <th>3</th>\n",
              "      <td>4</td>\n",
              "      <td>Indore</td>\n",
              "      <td>2017-04-08</td>\n",
              "      <td>Rising Pune Supergiant</td>\n",
              "      <td>Kings XI Punjab</td>\n",
              "      <td>Kings XI Punjab</td>\n",
              "      <td>field</td>\n",
              "      <td>normal</td>\n",
              "      <td>Kings XI Punjab</td>\n",
              "      <td>0</td>\n",
              "      <td>6</td>\n",
              "      <td>GJ Maxwell</td>\n",
              "      <td>Holkar Cricket Stadium</td>\n",
              "      <td>AK Chaudhary</td>\n",
              "      <td>C Shamshuddin</td>\n",
              "      <td>NA</td>\n",
              "    </tr>\n",
              "    <tr>\n",
              "      <th>4</th>\n",
              "      <td>5</td>\n",
              "      <td>Bangalore</td>\n",
              "      <td>2017-04-08</td>\n",
              "      <td>Royal Challengers Bangalore</td>\n",
              "      <td>Delhi Daredevils</td>\n",
              "      <td>Royal Challengers Bangalore</td>\n",
              "      <td>bat</td>\n",
              "      <td>normal</td>\n",
              "      <td>Royal Challengers Bangalore</td>\n",
              "      <td>15</td>\n",
              "      <td>0</td>\n",
              "      <td>KM Jadhav</td>\n",
              "      <td>M Chinnaswamy Stadium</td>\n",
              "      <td>HDPK Dharmasena</td>\n",
              "      <td>C Shamshuddin</td>\n",
              "      <td>NA</td>\n",
              "    </tr>\n",
              "  </tbody>\n",
              "</table>\n",
              "</div>"
            ],
            "text/plain": [
              "   id       city        date  ...          umpire1        umpire2 umpire3\n",
              "0   1  Hyderabad  2017-04-05  ...      AY Dandekar       NJ Llong      NA\n",
              "1   2       Pune  2017-04-06  ...   A Nand Kishore         S Ravi      NA\n",
              "2   3     Rajkot  2017-04-07  ...      Nitin Menon      CK Nandan      NA\n",
              "3   4     Indore  2017-04-08  ...     AK Chaudhary  C Shamshuddin      NA\n",
              "4   5  Bangalore  2017-04-08  ...  HDPK Dharmasena  C Shamshuddin      NA\n",
              "\n",
              "[5 rows x 16 columns]"
            ]
          },
          "metadata": {
            "tags": []
          },
          "execution_count": 84
        }
      ]
    },
    {
      "cell_type": "code",
      "metadata": {
        "colab": {
          "base_uri": "https://localhost:8080/",
          "height": 755
        },
        "id": "cwL4NGXyUjpo",
        "outputId": "d6eee4f6-c1c1-463e-a8f9-25dd3d337389"
      },
      "source": [
        "plt.figure(figsize=(10,10))\n",
        "sns.countplot(data_matches['toss_winner'])\n",
        "plt.xlabel('Teams')\n",
        "plt.ylabel('Count')\n",
        "plt.title('Teams that Won the Toss')\n",
        "plt.xticks(rotation=90)\n",
        "plt.show()"
      ],
      "execution_count": 85,
      "outputs": [
        {
          "output_type": "display_data",
          "data": {
            "image/png": "[encoded data removed]",
            "text/plain": [
              "<Figure size 720x720 with 1 Axes>"
            ]
          },
          "metadata": {
            "tags": [],
            "needs_background": "light"
          }
        }
      ]
    },
    {
      "cell_type": "code",
      "metadata": {
        "colab": {
          "base_uri": "https://localhost:8080/"
        },
        "id": "1_08d-CHUyD7",
        "outputId": "9a04840f-d70d-4fbd-da29-9ca40f173afe"
      },
      "source": [
        "print('Team that won most matches by Batting First: ',data_matches.iloc[data_matches[data_matches['Bat_1'].ge(1)].Bat_1.idxmax()]['winner'])"
      ],
      "execution_count": 86,
      "outputs": [
        {
          "output_type": "stream",
          "text": [
            "Team that won most matches by Batting First:  Mumbai Indians\n"
          ],
          "name": "stdout"
        }
      ]
    },
    {
      "cell_type": "markdown",
      "metadata": {
        "id": "QMNK1tC697qV"
      },
      "source": [
        "## 4. Data Analysis:"
      ]
    },
    {
      "cell_type": "markdown",
      "metadata": {
        "id": "v7UQs-Y7Vs6P"
      },
      "source": [
        "### 4.1. Merging the two Datasets into a new Dataset and Reading it (join on match-id)"
      ]
    },
    {
      "cell_type": "code",
      "metadata": {
        "colab": {
          "base_uri": "https://localhost:8080/",
          "height": 565
        },
        "id": "kxGGmRroVjHC",
        "outputId": "51262b8c-688f-492e-9376-d462929092f5"
      },
      "source": [
        "data_merge=pd.merge(data_deliveries, data_matches, left_on='match_id', right_on='id')\n",
        "data_merge.head()"
      ],
      "execution_count": 87,
      "outputs": [
        {
          "output_type": "execute_result",
          "data": {
            "text/html": [
              "<div>\n",
              "<style scoped>\n",
              "    .dataframe tbody tr th:only-of-type {\n",
              "        vertical-align: middle;\n",
              "    }\n",
              "\n",
              "    .dataframe tbody tr th {\n",
              "        vertical-align: top;\n",
              "    }\n",
              "\n",
              "    .dataframe thead th {\n",
              "        text-align: right;\n",
              "    }\n",
              "</style>\n",
              "<table border=\"1\" class=\"dataframe\">\n",
              "  <thead>\n",
              "    <tr style=\"text-align: right;\">\n",
              "      <th></th>\n",
              "      <th>match_id</th>\n",
              "      <th>inning</th>\n",
              "      <th>batting_team</th>\n",
              "      <th>bowling_team</th>\n",
              "      <th>over</th>\n",
              "      <th>ball</th>\n",
              "      <th>batsman</th>\n",
              "      <th>non_striker</th>\n",
              "      <th>bowler</th>\n",
              "      <th>is_super_over</th>\n",
              "      <th>wide_runs</th>\n",
              "      <th>bye_runs</th>\n",
              "      <th>legbye_runs</th>\n",
              "      <th>noball_runs</th>\n",
              "      <th>penalty_runs</th>\n",
              "      <th>batsman_runs</th>\n",
              "      <th>extra_runs</th>\n",
              "      <th>total_runs</th>\n",
              "      <th>player_dismissed</th>\n",
              "      <th>dismissal_kind</th>\n",
              "      <th>fielder</th>\n",
              "      <th>id</th>\n",
              "      <th>city</th>\n",
              "      <th>date</th>\n",
              "      <th>team1</th>\n",
              "      <th>team2</th>\n",
              "      <th>toss_winner</th>\n",
              "      <th>toss_decision</th>\n",
              "      <th>result</th>\n",
              "      <th>winner</th>\n",
              "      <th>Bat_1</th>\n",
              "      <th>Ball_1</th>\n",
              "      <th>player_of_match</th>\n",
              "      <th>venue</th>\n",
              "      <th>umpire1</th>\n",
              "      <th>umpire2</th>\n",
              "      <th>umpire3</th>\n",
              "    </tr>\n",
              "  </thead>\n",
              "  <tbody>\n",
              "    <tr>\n",
              "      <th>0</th>\n",
              "      <td>1</td>\n",
              "      <td>1</td>\n",
              "      <td>Sunrisers Hyderabad</td>\n",
              "      <td>Royal Challengers Bangalore</td>\n",
              "      <td>1</td>\n",
              "      <td>1</td>\n",
              "      <td>DA Warner</td>\n",
              "      <td>S Dhawan</td>\n",
              "      <td>TS Mills</td>\n",
              "      <td>0</td>\n",
              "      <td>0</td>\n",
              "      <td>0</td>\n",
              "      <td>0</td>\n",
              "      <td>0</td>\n",
              "      <td>0</td>\n",
              "      <td>0</td>\n",
              "      <td>0</td>\n",
              "      <td>0</td>\n",
              "      <td>NaN</td>\n",
              "      <td>NaN</td>\n",
              "      <td>NaN</td>\n",
              "      <td>1</td>\n",
              "      <td>Hyderabad</td>\n",
              "      <td>2017-04-05</td>\n",
              "      <td>Sunrisers Hyderabad</td>\n",
              "      <td>Royal Challengers Bangalore</td>\n",
              "      <td>Royal Challengers Bangalore</td>\n",
              "      <td>field</td>\n",
              "      <td>normal</td>\n",
              "      <td>Sunrisers Hyderabad</td>\n",
              "      <td>35</td>\n",
              "      <td>0</td>\n",
              "      <td>Yuvraj Singh</td>\n",
              "      <td>Rajiv Gandhi International Stadium, Uppal</td>\n",
              "      <td>AY Dandekar</td>\n",
              "      <td>NJ Llong</td>\n",
              "      <td>NA</td>\n",
              "    </tr>\n",
              "    <tr>\n",
              "      <th>1</th>\n",
              "      <td>1</td>\n",
              "      <td>1</td>\n",
              "      <td>Sunrisers Hyderabad</td>\n",
              "      <td>Royal Challengers Bangalore</td>\n",
              "      <td>1</td>\n",
              "      <td>2</td>\n",
              "      <td>DA Warner</td>\n",
              "      <td>S Dhawan</td>\n",
              "      <td>TS Mills</td>\n",
              "      <td>0</td>\n",
              "      <td>0</td>\n",
              "      <td>0</td>\n",
              "      <td>0</td>\n",
              "      <td>0</td>\n",
              "      <td>0</td>\n",
              "      <td>0</td>\n",
              "      <td>0</td>\n",
              "      <td>0</td>\n",
              "      <td>NaN</td>\n",
              "      <td>NaN</td>\n",
              "      <td>NaN</td>\n",
              "      <td>1</td>\n",
              "      <td>Hyderabad</td>\n",
              "      <td>2017-04-05</td>\n",
              "      <td>Sunrisers Hyderabad</td>\n",
              "      <td>Royal Challengers Bangalore</td>\n",
              "      <td>Royal Challengers Bangalore</td>\n",
              "      <td>field</td>\n",
              "      <td>normal</td>\n",
              "      <td>Sunrisers Hyderabad</td>\n",
              "      <td>35</td>\n",
              "      <td>0</td>\n",
              "      <td>Yuvraj Singh</td>\n",
              "      <td>Rajiv Gandhi International Stadium, Uppal</td>\n",
              "      <td>AY Dandekar</td>\n",
              "      <td>NJ Llong</td>\n",
              "      <td>NA</td>\n",
              "    </tr>\n",
              "    <tr>\n",
              "      <th>2</th>\n",
              "      <td>1</td>\n",
              "      <td>1</td>\n",
              "      <td>Sunrisers Hyderabad</td>\n",
              "      <td>Royal Challengers Bangalore</td>\n",
              "      <td>1</td>\n",
              "      <td>3</td>\n",
              "      <td>DA Warner</td>\n",
              "      <td>S Dhawan</td>\n",
              "      <td>TS Mills</td>\n",
              "      <td>0</td>\n",
              "      <td>0</td>\n",
              "      <td>0</td>\n",
              "      <td>0</td>\n",
              "      <td>0</td>\n",
              "      <td>0</td>\n",
              "      <td>4</td>\n",
              "      <td>0</td>\n",
              "      <td>4</td>\n",
              "      <td>NaN</td>\n",
              "      <td>NaN</td>\n",
              "      <td>NaN</td>\n",
              "      <td>1</td>\n",
              "      <td>Hyderabad</td>\n",
              "      <td>2017-04-05</td>\n",
              "      <td>Sunrisers Hyderabad</td>\n",
              "      <td>Royal Challengers Bangalore</td>\n",
              "      <td>Royal Challengers Bangalore</td>\n",
              "      <td>field</td>\n",
              "      <td>normal</td>\n",
              "      <td>Sunrisers Hyderabad</td>\n",
              "      <td>35</td>\n",
              "      <td>0</td>\n",
              "      <td>Yuvraj Singh</td>\n",
              "      <td>Rajiv Gandhi International Stadium, Uppal</td>\n",
              "      <td>AY Dandekar</td>\n",
              "      <td>NJ Llong</td>\n",
              "      <td>NA</td>\n",
              "    </tr>\n",
              "    <tr>\n",
              "      <th>3</th>\n",
              "      <td>1</td>\n",
              "      <td>1</td>\n",
              "      <td>Sunrisers Hyderabad</td>\n",
              "      <td>Royal Challengers Bangalore</td>\n",
              "      <td>1</td>\n",
              "      <td>4</td>\n",
              "      <td>DA Warner</td>\n",
              "      <td>S Dhawan</td>\n",
              "      <td>TS Mills</td>\n",
              "      <td>0</td>\n",
              "      <td>0</td>\n",
              "      <td>0</td>\n",
              "      <td>0</td>\n",
              "      <td>0</td>\n",
              "      <td>0</td>\n",
              "      <td>0</td>\n",
              "      <td>0</td>\n",
              "      <td>0</td>\n",
              "      <td>NaN</td>\n",
              "      <td>NaN</td>\n",
              "      <td>NaN</td>\n",
              "      <td>1</td>\n",
              "      <td>Hyderabad</td>\n",
              "      <td>2017-04-05</td>\n",
              "      <td>Sunrisers Hyderabad</td>\n",
              "      <td>Royal Challengers Bangalore</td>\n",
              "      <td>Royal Challengers Bangalore</td>\n",
              "      <td>field</td>\n",
              "      <td>normal</td>\n",
              "      <td>Sunrisers Hyderabad</td>\n",
              "      <td>35</td>\n",
              "      <td>0</td>\n",
              "      <td>Yuvraj Singh</td>\n",
              "      <td>Rajiv Gandhi International Stadium, Uppal</td>\n",
              "      <td>AY Dandekar</td>\n",
              "      <td>NJ Llong</td>\n",
              "      <td>NA</td>\n",
              "    </tr>\n",
              "    <tr>\n",
              "      <th>4</th>\n",
              "      <td>1</td>\n",
              "      <td>1</td>\n",
              "      <td>Sunrisers Hyderabad</td>\n",
              "      <td>Royal Challengers Bangalore</td>\n",
              "      <td>1</td>\n",
              "      <td>5</td>\n",
              "      <td>DA Warner</td>\n",
              "      <td>S Dhawan</td>\n",
              "      <td>TS Mills</td>\n",
              "      <td>0</td>\n",
              "      <td>2</td>\n",
              "      <td>0</td>\n",
              "      <td>0</td>\n",
              "      <td>0</td>\n",
              "      <td>0</td>\n",
              "      <td>0</td>\n",
              "      <td>2</td>\n",
              "      <td>2</td>\n",
              "      <td>NaN</td>\n",
              "      <td>NaN</td>\n",
              "      <td>NaN</td>\n",
              "      <td>1</td>\n",
              "      <td>Hyderabad</td>\n",
              "      <td>2017-04-05</td>\n",
              "      <td>Sunrisers Hyderabad</td>\n",
              "      <td>Royal Challengers Bangalore</td>\n",
              "      <td>Royal Challengers Bangalore</td>\n",
              "      <td>field</td>\n",
              "      <td>normal</td>\n",
              "      <td>Sunrisers Hyderabad</td>\n",
              "      <td>35</td>\n",
              "      <td>0</td>\n",
              "      <td>Yuvraj Singh</td>\n",
              "      <td>Rajiv Gandhi International Stadium, Uppal</td>\n",
              "      <td>AY Dandekar</td>\n",
              "      <td>NJ Llong</td>\n",
              "      <td>NA</td>\n",
              "    </tr>\n",
              "  </tbody>\n",
              "</table>\n",
              "</div>"
            ],
            "text/plain": [
              "   match_id  inning         batting_team  ...      umpire1   umpire2  umpire3\n",
              "0         1       1  Sunrisers Hyderabad  ...  AY Dandekar  NJ Llong       NA\n",
              "1         1       1  Sunrisers Hyderabad  ...  AY Dandekar  NJ Llong       NA\n",
              "2         1       1  Sunrisers Hyderabad  ...  AY Dandekar  NJ Llong       NA\n",
              "3         1       1  Sunrisers Hyderabad  ...  AY Dandekar  NJ Llong       NA\n",
              "4         1       1  Sunrisers Hyderabad  ...  AY Dandekar  NJ Llong       NA\n",
              "\n",
              "[5 rows x 37 columns]"
            ]
          },
          "metadata": {
            "tags": []
          },
          "execution_count": 87
        }
      ]
    },
    {
      "cell_type": "code",
      "metadata": {
        "colab": {
          "base_uri": "https://localhost:8080/"
        },
        "id": "0k3AzNX2V9yh",
        "outputId": "199600c0-e9e9-4eca-ab76-2cc852009824"
      },
      "source": [
        "print('Shape:', data_merge.shape)\n",
        "print('Size:', data_merge.size)"
      ],
      "execution_count": 88,
      "outputs": [
        {
          "output_type": "stream",
          "text": [
            "Shape: (179078, 37)\n",
            "Size: 6625886\n"
          ],
          "name": "stdout"
        }
      ]
    },
    {
      "cell_type": "code",
      "metadata": {
        "colab": {
          "base_uri": "https://localhost:8080/"
        },
        "id": "uZyRUiO_WAVv",
        "outputId": "61dd5d45-df5a-4767-8802-0e48266295b2"
      },
      "source": [
        "data_merge.isna().sum()"
      ],
      "execution_count": 89,
      "outputs": [
        {
          "output_type": "execute_result",
          "data": {
            "text/plain": [
              "match_id                 0\n",
              "inning                   0\n",
              "batting_team             0\n",
              "bowling_team             0\n",
              "over                     0\n",
              "ball                     0\n",
              "batsman                  0\n",
              "non_striker              0\n",
              "bowler                   0\n",
              "is_super_over            0\n",
              "wide_runs                0\n",
              "bye_runs                 0\n",
              "legbye_runs              0\n",
              "noball_runs              0\n",
              "penalty_runs             0\n",
              "batsman_runs             0\n",
              "extra_runs               0\n",
              "total_runs               0\n",
              "player_dismissed    170244\n",
              "dismissal_kind      170244\n",
              "fielder             172630\n",
              "id                       0\n",
              "city                     0\n",
              "date                     0\n",
              "team1                    0\n",
              "team2                    0\n",
              "toss_winner              0\n",
              "toss_decision            0\n",
              "result                   0\n",
              "winner                   0\n",
              "Bat_1                    0\n",
              "Ball_1                   0\n",
              "player_of_match          0\n",
              "venue                    0\n",
              "umpire1                  0\n",
              "umpire2                  0\n",
              "umpire3                  0\n",
              "dtype: int64"
            ]
          },
          "metadata": {
            "tags": []
          },
          "execution_count": 89
        }
      ]
    },
    {
      "cell_type": "code",
      "metadata": {
        "colab": {
          "base_uri": "https://localhost:8080/"
        },
        "id": "AlW_qTUbWE0A",
        "outputId": "b5f23dcf-e9b5-4e3a-d347-cf9e05570bc0"
      },
      "source": [
        "data_merge['player_dismissed'].fillna(value='NA', inplace=True)\n",
        "data_merge.isnull().sum()"
      ],
      "execution_count": 90,
      "outputs": [
        {
          "output_type": "execute_result",
          "data": {
            "text/plain": [
              "match_id                 0\n",
              "inning                   0\n",
              "batting_team             0\n",
              "bowling_team             0\n",
              "over                     0\n",
              "ball                     0\n",
              "batsman                  0\n",
              "non_striker              0\n",
              "bowler                   0\n",
              "is_super_over            0\n",
              "wide_runs                0\n",
              "bye_runs                 0\n",
              "legbye_runs              0\n",
              "noball_runs              0\n",
              "penalty_runs             0\n",
              "batsman_runs             0\n",
              "extra_runs               0\n",
              "total_runs               0\n",
              "player_dismissed         0\n",
              "dismissal_kind      170244\n",
              "fielder             172630\n",
              "id                       0\n",
              "city                     0\n",
              "date                     0\n",
              "team1                    0\n",
              "team2                    0\n",
              "toss_winner              0\n",
              "toss_decision            0\n",
              "result                   0\n",
              "winner                   0\n",
              "Bat_1                    0\n",
              "Ball_1                   0\n",
              "player_of_match          0\n",
              "venue                    0\n",
              "umpire1                  0\n",
              "umpire2                  0\n",
              "umpire3                  0\n",
              "dtype: int64"
            ]
          },
          "metadata": {
            "tags": []
          },
          "execution_count": 90
        }
      ]
    },
    {
      "cell_type": "code",
      "metadata": {
        "colab": {
          "base_uri": "https://localhost:8080/"
        },
        "id": "uhR1LePIWMvN",
        "outputId": "d36c0a34-7181-4694-eff4-0826050a0c15"
      },
      "source": [
        "data_merge.duplicated().sum()"
      ],
      "execution_count": 91,
      "outputs": [
        {
          "output_type": "execute_result",
          "data": {
            "text/plain": [
              "23"
            ]
          },
          "metadata": {
            "tags": []
          },
          "execution_count": 91
        }
      ]
    },
    {
      "cell_type": "code",
      "metadata": {
        "colab": {
          "base_uri": "https://localhost:8080/",
          "height": 1000
        },
        "id": "SrEx5E3HWPmk",
        "outputId": "31cb0097-dc3a-4b9b-bbc8-3c600ce52231"
      },
      "source": [
        "data_merge.drop_duplicates()"
      ],
      "execution_count": 92,
      "outputs": [
        {
          "output_type": "execute_result",
          "data": {
            "text/html": [
              "<div>\n",
              "<style scoped>\n",
              "    .dataframe tbody tr th:only-of-type {\n",
              "        vertical-align: middle;\n",
              "    }\n",
              "\n",
              "    .dataframe tbody tr th {\n",
              "        vertical-align: top;\n",
              "    }\n",
              "\n",
              "    .dataframe thead th {\n",
              "        text-align: right;\n",
              "    }\n",
              "</style>\n",
              "<table border=\"1\" class=\"dataframe\">\n",
              "  <thead>\n",
              "    <tr style=\"text-align: right;\">\n",
              "      <th></th>\n",
              "      <th>match_id</th>\n",
              "      <th>inning</th>\n",
              "      <th>batting_team</th>\n",
              "      <th>bowling_team</th>\n",
              "      <th>over</th>\n",
              "      <th>ball</th>\n",
              "      <th>batsman</th>\n",
              "      <th>non_striker</th>\n",
              "      <th>bowler</th>\n",
              "      <th>is_super_over</th>\n",
              "      <th>wide_runs</th>\n",
              "      <th>bye_runs</th>\n",
              "      <th>legbye_runs</th>\n",
              "      <th>noball_runs</th>\n",
              "      <th>penalty_runs</th>\n",
              "      <th>batsman_runs</th>\n",
              "      <th>extra_runs</th>\n",
              "      <th>total_runs</th>\n",
              "      <th>player_dismissed</th>\n",
              "      <th>dismissal_kind</th>\n",
              "      <th>fielder</th>\n",
              "      <th>id</th>\n",
              "      <th>city</th>\n",
              "      <th>date</th>\n",
              "      <th>team1</th>\n",
              "      <th>team2</th>\n",
              "      <th>toss_winner</th>\n",
              "      <th>toss_decision</th>\n",
              "      <th>result</th>\n",
              "      <th>winner</th>\n",
              "      <th>Bat_1</th>\n",
              "      <th>Ball_1</th>\n",
              "      <th>player_of_match</th>\n",
              "      <th>venue</th>\n",
              "      <th>umpire1</th>\n",
              "      <th>umpire2</th>\n",
              "      <th>umpire3</th>\n",
              "    </tr>\n",
              "  </thead>\n",
              "  <tbody>\n",
              "    <tr>\n",
              "      <th>0</th>\n",
              "      <td>1</td>\n",
              "      <td>1</td>\n",
              "      <td>Sunrisers Hyderabad</td>\n",
              "      <td>Royal Challengers Bangalore</td>\n",
              "      <td>1</td>\n",
              "      <td>1</td>\n",
              "      <td>DA Warner</td>\n",
              "      <td>S Dhawan</td>\n",
              "      <td>TS Mills</td>\n",
              "      <td>0</td>\n",
              "      <td>0</td>\n",
              "      <td>0</td>\n",
              "      <td>0</td>\n",
              "      <td>0</td>\n",
              "      <td>0</td>\n",
              "      <td>0</td>\n",
              "      <td>0</td>\n",
              "      <td>0</td>\n",
              "      <td>NA</td>\n",
              "      <td>NaN</td>\n",
              "      <td>NaN</td>\n",
              "      <td>1</td>\n",
              "      <td>Hyderabad</td>\n",
              "      <td>2017-04-05</td>\n",
              "      <td>Sunrisers Hyderabad</td>\n",
              "      <td>Royal Challengers Bangalore</td>\n",
              "      <td>Royal Challengers Bangalore</td>\n",
              "      <td>field</td>\n",
              "      <td>normal</td>\n",
              "      <td>Sunrisers Hyderabad</td>\n",
              "      <td>35</td>\n",
              "      <td>0</td>\n",
              "      <td>Yuvraj Singh</td>\n",
              "      <td>Rajiv Gandhi International Stadium, Uppal</td>\n",
              "      <td>AY Dandekar</td>\n",
              "      <td>NJ Llong</td>\n",
              "      <td>NA</td>\n",
              "    </tr>\n",
              "    <tr>\n",
              "      <th>1</th>\n",
              "      <td>1</td>\n",
              "      <td>1</td>\n",
              "      <td>Sunrisers Hyderabad</td>\n",
              "      <td>Royal Challengers Bangalore</td>\n",
              "      <td>1</td>\n",
              "      <td>2</td>\n",
              "      <td>DA Warner</td>\n",
              "      <td>S Dhawan</td>\n",
              "      <td>TS Mills</td>\n",
              "      <td>0</td>\n",
              "      <td>0</td>\n",
              "      <td>0</td>\n",
              "      <td>0</td>\n",
              "      <td>0</td>\n",
              "      <td>0</td>\n",
              "      <td>0</td>\n",
              "      <td>0</td>\n",
              "      <td>0</td>\n",
              "      <td>NA</td>\n",
              "      <td>NaN</td>\n",
              "      <td>NaN</td>\n",
              "      <td>1</td>\n",
              "      <td>Hyderabad</td>\n",
              "      <td>2017-04-05</td>\n",
              "      <td>Sunrisers Hyderabad</td>\n",
              "      <td>Royal Challengers Bangalore</td>\n",
              "      <td>Royal Challengers Bangalore</td>\n",
              "      <td>field</td>\n",
              "      <td>normal</td>\n",
              "      <td>Sunrisers Hyderabad</td>\n",
              "      <td>35</td>\n",
              "      <td>0</td>\n",
              "      <td>Yuvraj Singh</td>\n",
              "      <td>Rajiv Gandhi International Stadium, Uppal</td>\n",
              "      <td>AY Dandekar</td>\n",
              "      <td>NJ Llong</td>\n",
              "      <td>NA</td>\n",
              "    </tr>\n",
              "    <tr>\n",
              "      <th>2</th>\n",
              "      <td>1</td>\n",
              "      <td>1</td>\n",
              "      <td>Sunrisers Hyderabad</td>\n",
              "      <td>Royal Challengers Bangalore</td>\n",
              "      <td>1</td>\n",
              "      <td>3</td>\n",
              "      <td>DA Warner</td>\n",
              "      <td>S Dhawan</td>\n",
              "      <td>TS Mills</td>\n",
              "      <td>0</td>\n",
              "      <td>0</td>\n",
              "      <td>0</td>\n",
              "      <td>0</td>\n",
              "      <td>0</td>\n",
              "      <td>0</td>\n",
              "      <td>4</td>\n",
              "      <td>0</td>\n",
              "      <td>4</td>\n",
              "      <td>NA</td>\n",
              "      <td>NaN</td>\n",
              "      <td>NaN</td>\n",
              "      <td>1</td>\n",
              "      <td>Hyderabad</td>\n",
              "      <td>2017-04-05</td>\n",
              "      <td>Sunrisers Hyderabad</td>\n",
              "      <td>Royal Challengers Bangalore</td>\n",
              "      <td>Royal Challengers Bangalore</td>\n",
              "      <td>field</td>\n",
              "      <td>normal</td>\n",
              "      <td>Sunrisers Hyderabad</td>\n",
              "      <td>35</td>\n",
              "      <td>0</td>\n",
              "      <td>Yuvraj Singh</td>\n",
              "      <td>Rajiv Gandhi International Stadium, Uppal</td>\n",
              "      <td>AY Dandekar</td>\n",
              "      <td>NJ Llong</td>\n",
              "      <td>NA</td>\n",
              "    </tr>\n",
              "    <tr>\n",
              "      <th>3</th>\n",
              "      <td>1</td>\n",
              "      <td>1</td>\n",
              "      <td>Sunrisers Hyderabad</td>\n",
              "      <td>Royal Challengers Bangalore</td>\n",
              "      <td>1</td>\n",
              "      <td>4</td>\n",
              "      <td>DA Warner</td>\n",
              "      <td>S Dhawan</td>\n",
              "      <td>TS Mills</td>\n",
              "      <td>0</td>\n",
              "      <td>0</td>\n",
              "      <td>0</td>\n",
              "      <td>0</td>\n",
              "      <td>0</td>\n",
              "      <td>0</td>\n",
              "      <td>0</td>\n",
              "      <td>0</td>\n",
              "      <td>0</td>\n",
              "      <td>NA</td>\n",
              "      <td>NaN</td>\n",
              "      <td>NaN</td>\n",
              "      <td>1</td>\n",
              "      <td>Hyderabad</td>\n",
              "      <td>2017-04-05</td>\n",
              "      <td>Sunrisers Hyderabad</td>\n",
              "      <td>Royal Challengers Bangalore</td>\n",
              "      <td>Royal Challengers Bangalore</td>\n",
              "      <td>field</td>\n",
              "      <td>normal</td>\n",
              "      <td>Sunrisers Hyderabad</td>\n",
              "      <td>35</td>\n",
              "      <td>0</td>\n",
              "      <td>Yuvraj Singh</td>\n",
              "      <td>Rajiv Gandhi International Stadium, Uppal</td>\n",
              "      <td>AY Dandekar</td>\n",
              "      <td>NJ Llong</td>\n",
              "      <td>NA</td>\n",
              "    </tr>\n",
              "    <tr>\n",
              "      <th>4</th>\n",
              "      <td>1</td>\n",
              "      <td>1</td>\n",
              "      <td>Sunrisers Hyderabad</td>\n",
              "      <td>Royal Challengers Bangalore</td>\n",
              "      <td>1</td>\n",
              "      <td>5</td>\n",
              "      <td>DA Warner</td>\n",
              "      <td>S Dhawan</td>\n",
              "      <td>TS Mills</td>\n",
              "      <td>0</td>\n",
              "      <td>2</td>\n",
              "      <td>0</td>\n",
              "      <td>0</td>\n",
              "      <td>0</td>\n",
              "      <td>0</td>\n",
              "      <td>0</td>\n",
              "      <td>2</td>\n",
              "      <td>2</td>\n",
              "      <td>NA</td>\n",
              "      <td>NaN</td>\n",
              "      <td>NaN</td>\n",
              "      <td>1</td>\n",
              "      <td>Hyderabad</td>\n",
              "      <td>2017-04-05</td>\n",
              "      <td>Sunrisers Hyderabad</td>\n",
              "      <td>Royal Challengers Bangalore</td>\n",
              "      <td>Royal Challengers Bangalore</td>\n",
              "      <td>field</td>\n",
              "      <td>normal</td>\n",
              "      <td>Sunrisers Hyderabad</td>\n",
              "      <td>35</td>\n",
              "      <td>0</td>\n",
              "      <td>Yuvraj Singh</td>\n",
              "      <td>Rajiv Gandhi International Stadium, Uppal</td>\n",
              "      <td>AY Dandekar</td>\n",
              "      <td>NJ Llong</td>\n",
              "      <td>NA</td>\n",
              "    </tr>\n",
              "    <tr>\n",
              "      <th>...</th>\n",
              "      <td>...</td>\n",
              "      <td>...</td>\n",
              "      <td>...</td>\n",
              "      <td>...</td>\n",
              "      <td>...</td>\n",
              "      <td>...</td>\n",
              "      <td>...</td>\n",
              "      <td>...</td>\n",
              "      <td>...</td>\n",
              "      <td>...</td>\n",
              "      <td>...</td>\n",
              "      <td>...</td>\n",
              "      <td>...</td>\n",
              "      <td>...</td>\n",
              "      <td>...</td>\n",
              "      <td>...</td>\n",
              "      <td>...</td>\n",
              "      <td>...</td>\n",
              "      <td>...</td>\n",
              "      <td>...</td>\n",
              "      <td>...</td>\n",
              "      <td>...</td>\n",
              "      <td>...</td>\n",
              "      <td>...</td>\n",
              "      <td>...</td>\n",
              "      <td>...</td>\n",
              "      <td>...</td>\n",
              "      <td>...</td>\n",
              "      <td>...</td>\n",
              "      <td>...</td>\n",
              "      <td>...</td>\n",
              "      <td>...</td>\n",
              "      <td>...</td>\n",
              "      <td>...</td>\n",
              "      <td>...</td>\n",
              "      <td>...</td>\n",
              "      <td>...</td>\n",
              "    </tr>\n",
              "    <tr>\n",
              "      <th>179073</th>\n",
              "      <td>11415</td>\n",
              "      <td>2</td>\n",
              "      <td>Chennai Super Kings</td>\n",
              "      <td>Mumbai Indians</td>\n",
              "      <td>20</td>\n",
              "      <td>2</td>\n",
              "      <td>RA Jadeja</td>\n",
              "      <td>SR Watson</td>\n",
              "      <td>SL Malinga</td>\n",
              "      <td>0</td>\n",
              "      <td>0</td>\n",
              "      <td>0</td>\n",
              "      <td>0</td>\n",
              "      <td>0</td>\n",
              "      <td>0</td>\n",
              "      <td>1</td>\n",
              "      <td>0</td>\n",
              "      <td>1</td>\n",
              "      <td>NA</td>\n",
              "      <td>NaN</td>\n",
              "      <td>NaN</td>\n",
              "      <td>11415</td>\n",
              "      <td>Hyderabad</td>\n",
              "      <td>12/05/19</td>\n",
              "      <td>Mumbai Indians</td>\n",
              "      <td>Chennai Super Kings</td>\n",
              "      <td>Mumbai Indians</td>\n",
              "      <td>bat</td>\n",
              "      <td>normal</td>\n",
              "      <td>Mumbai Indians</td>\n",
              "      <td>1</td>\n",
              "      <td>0</td>\n",
              "      <td>JJ Bumrah</td>\n",
              "      <td>Rajiv Gandhi Intl. Cricket Stadium</td>\n",
              "      <td>Nitin Menon</td>\n",
              "      <td>Ian Gould</td>\n",
              "      <td>Nigel Llong</td>\n",
              "    </tr>\n",
              "    <tr>\n",
              "      <th>179074</th>\n",
              "      <td>11415</td>\n",
              "      <td>2</td>\n",
              "      <td>Chennai Super Kings</td>\n",
              "      <td>Mumbai Indians</td>\n",
              "      <td>20</td>\n",
              "      <td>3</td>\n",
              "      <td>SR Watson</td>\n",
              "      <td>RA Jadeja</td>\n",
              "      <td>SL Malinga</td>\n",
              "      <td>0</td>\n",
              "      <td>0</td>\n",
              "      <td>0</td>\n",
              "      <td>0</td>\n",
              "      <td>0</td>\n",
              "      <td>0</td>\n",
              "      <td>2</td>\n",
              "      <td>0</td>\n",
              "      <td>2</td>\n",
              "      <td>NA</td>\n",
              "      <td>NaN</td>\n",
              "      <td>NaN</td>\n",
              "      <td>11415</td>\n",
              "      <td>Hyderabad</td>\n",
              "      <td>12/05/19</td>\n",
              "      <td>Mumbai Indians</td>\n",
              "      <td>Chennai Super Kings</td>\n",
              "      <td>Mumbai Indians</td>\n",
              "      <td>bat</td>\n",
              "      <td>normal</td>\n",
              "      <td>Mumbai Indians</td>\n",
              "      <td>1</td>\n",
              "      <td>0</td>\n",
              "      <td>JJ Bumrah</td>\n",
              "      <td>Rajiv Gandhi Intl. Cricket Stadium</td>\n",
              "      <td>Nitin Menon</td>\n",
              "      <td>Ian Gould</td>\n",
              "      <td>Nigel Llong</td>\n",
              "    </tr>\n",
              "    <tr>\n",
              "      <th>179075</th>\n",
              "      <td>11415</td>\n",
              "      <td>2</td>\n",
              "      <td>Chennai Super Kings</td>\n",
              "      <td>Mumbai Indians</td>\n",
              "      <td>20</td>\n",
              "      <td>4</td>\n",
              "      <td>SR Watson</td>\n",
              "      <td>RA Jadeja</td>\n",
              "      <td>SL Malinga</td>\n",
              "      <td>0</td>\n",
              "      <td>0</td>\n",
              "      <td>0</td>\n",
              "      <td>0</td>\n",
              "      <td>0</td>\n",
              "      <td>0</td>\n",
              "      <td>1</td>\n",
              "      <td>0</td>\n",
              "      <td>1</td>\n",
              "      <td>SR Watson</td>\n",
              "      <td>run out</td>\n",
              "      <td>KH Pandya</td>\n",
              "      <td>11415</td>\n",
              "      <td>Hyderabad</td>\n",
              "      <td>12/05/19</td>\n",
              "      <td>Mumbai Indians</td>\n",
              "      <td>Chennai Super Kings</td>\n",
              "      <td>Mumbai Indians</td>\n",
              "      <td>bat</td>\n",
              "      <td>normal</td>\n",
              "      <td>Mumbai Indians</td>\n",
              "      <td>1</td>\n",
              "      <td>0</td>\n",
              "      <td>JJ Bumrah</td>\n",
              "      <td>Rajiv Gandhi Intl. Cricket Stadium</td>\n",
              "      <td>Nitin Menon</td>\n",
              "      <td>Ian Gould</td>\n",
              "      <td>Nigel Llong</td>\n",
              "    </tr>\n",
              "    <tr>\n",
              "      <th>179076</th>\n",
              "      <td>11415</td>\n",
              "      <td>2</td>\n",
              "      <td>Chennai Super Kings</td>\n",
              "      <td>Mumbai Indians</td>\n",
              "      <td>20</td>\n",
              "      <td>5</td>\n",
              "      <td>SN Thakur</td>\n",
              "      <td>RA Jadeja</td>\n",
              "      <td>SL Malinga</td>\n",
              "      <td>0</td>\n",
              "      <td>0</td>\n",
              "      <td>0</td>\n",
              "      <td>0</td>\n",
              "      <td>0</td>\n",
              "      <td>0</td>\n",
              "      <td>2</td>\n",
              "      <td>0</td>\n",
              "      <td>2</td>\n",
              "      <td>NA</td>\n",
              "      <td>NaN</td>\n",
              "      <td>NaN</td>\n",
              "      <td>11415</td>\n",
              "      <td>Hyderabad</td>\n",
              "      <td>12/05/19</td>\n",
              "      <td>Mumbai Indians</td>\n",
              "      <td>Chennai Super Kings</td>\n",
              "      <td>Mumbai Indians</td>\n",
              "      <td>bat</td>\n",
              "      <td>normal</td>\n",
              "      <td>Mumbai Indians</td>\n",
              "      <td>1</td>\n",
              "      <td>0</td>\n",
              "      <td>JJ Bumrah</td>\n",
              "      <td>Rajiv Gandhi Intl. Cricket Stadium</td>\n",
              "      <td>Nitin Menon</td>\n",
              "      <td>Ian Gould</td>\n",
              "      <td>Nigel Llong</td>\n",
              "    </tr>\n",
              "    <tr>\n",
              "      <th>179077</th>\n",
              "      <td>11415</td>\n",
              "      <td>2</td>\n",
              "      <td>Chennai Super Kings</td>\n",
              "      <td>Mumbai Indians</td>\n",
              "      <td>20</td>\n",
              "      <td>6</td>\n",
              "      <td>SN Thakur</td>\n",
              "      <td>RA Jadeja</td>\n",
              "      <td>SL Malinga</td>\n",
              "      <td>0</td>\n",
              "      <td>0</td>\n",
              "      <td>0</td>\n",
              "      <td>0</td>\n",
              "      <td>0</td>\n",
              "      <td>0</td>\n",
              "      <td>0</td>\n",
              "      <td>0</td>\n",
              "      <td>0</td>\n",
              "      <td>SN Thakur</td>\n",
              "      <td>lbw</td>\n",
              "      <td>NaN</td>\n",
              "      <td>11415</td>\n",
              "      <td>Hyderabad</td>\n",
              "      <td>12/05/19</td>\n",
              "      <td>Mumbai Indians</td>\n",
              "      <td>Chennai Super Kings</td>\n",
              "      <td>Mumbai Indians</td>\n",
              "      <td>bat</td>\n",
              "      <td>normal</td>\n",
              "      <td>Mumbai Indians</td>\n",
              "      <td>1</td>\n",
              "      <td>0</td>\n",
              "      <td>JJ Bumrah</td>\n",
              "      <td>Rajiv Gandhi Intl. Cricket Stadium</td>\n",
              "      <td>Nitin Menon</td>\n",
              "      <td>Ian Gould</td>\n",
              "      <td>Nigel Llong</td>\n",
              "    </tr>\n",
              "  </tbody>\n",
              "</table>\n",
              "<p>179055 rows × 37 columns</p>\n",
              "</div>"
            ],
            "text/plain": [
              "        match_id  inning  ...    umpire2      umpire3\n",
              "0              1       1  ...   NJ Llong           NA\n",
              "1              1       1  ...   NJ Llong           NA\n",
              "2              1       1  ...   NJ Llong           NA\n",
              "3              1       1  ...   NJ Llong           NA\n",
              "4              1       1  ...   NJ Llong           NA\n",
              "...          ...     ...  ...        ...          ...\n",
              "179073     11415       2  ...  Ian Gould  Nigel Llong\n",
              "179074     11415       2  ...  Ian Gould  Nigel Llong\n",
              "179075     11415       2  ...  Ian Gould  Nigel Llong\n",
              "179076     11415       2  ...  Ian Gould  Nigel Llong\n",
              "179077     11415       2  ...  Ian Gould  Nigel Llong\n",
              "\n",
              "[179055 rows x 37 columns]"
            ]
          },
          "metadata": {
            "tags": []
          },
          "execution_count": 92
        }
      ]
    },
    {
      "cell_type": "code",
      "metadata": {
        "colab": {
          "base_uri": "https://localhost:8080/",
          "height": 565
        },
        "id": "lsoZqrlp97qW",
        "outputId": "e080d626-d53a-4aa1-b6c5-6dcc7f7b947c"
      },
      "source": [
        "data_merge.corr().abs()"
      ],
      "execution_count": 93,
      "outputs": [
        {
          "output_type": "execute_result",
          "data": {
            "text/html": [
              "<div>\n",
              "<style scoped>\n",
              "    .dataframe tbody tr th:only-of-type {\n",
              "        vertical-align: middle;\n",
              "    }\n",
              "\n",
              "    .dataframe tbody tr th {\n",
              "        vertical-align: top;\n",
              "    }\n",
              "\n",
              "    .dataframe thead th {\n",
              "        text-align: right;\n",
              "    }\n",
              "</style>\n",
              "<table border=\"1\" class=\"dataframe\">\n",
              "  <thead>\n",
              "    <tr style=\"text-align: right;\">\n",
              "      <th></th>\n",
              "      <th>match_id</th>\n",
              "      <th>inning</th>\n",
              "      <th>over</th>\n",
              "      <th>ball</th>\n",
              "      <th>is_super_over</th>\n",
              "      <th>wide_runs</th>\n",
              "      <th>bye_runs</th>\n",
              "      <th>legbye_runs</th>\n",
              "      <th>noball_runs</th>\n",
              "      <th>penalty_runs</th>\n",
              "      <th>batsman_runs</th>\n",
              "      <th>extra_runs</th>\n",
              "      <th>total_runs</th>\n",
              "      <th>id</th>\n",
              "      <th>Bat_1</th>\n",
              "      <th>Ball_1</th>\n",
              "    </tr>\n",
              "  </thead>\n",
              "  <tbody>\n",
              "    <tr>\n",
              "      <th>match_id</th>\n",
              "      <td>1.000000</td>\n",
              "      <td>0.003958</td>\n",
              "      <td>0.008268</td>\n",
              "      <td>0.001349</td>\n",
              "      <td>0.009150</td>\n",
              "      <td>0.007549</td>\n",
              "      <td>0.000905</td>\n",
              "      <td>0.012429</td>\n",
              "      <td>0.004623</td>\n",
              "      <td>0.001475</td>\n",
              "      <td>0.033510</td>\n",
              "      <td>0.013323</td>\n",
              "      <td>0.030727</td>\n",
              "      <td>1.000000</td>\n",
              "      <td>0.039757</td>\n",
              "      <td>0.005500</td>\n",
              "    </tr>\n",
              "    <tr>\n",
              "      <th>inning</th>\n",
              "      <td>0.003958</td>\n",
              "      <td>1.000000</td>\n",
              "      <td>0.050076</td>\n",
              "      <td>0.003943</td>\n",
              "      <td>0.084154</td>\n",
              "      <td>0.001201</td>\n",
              "      <td>0.000757</td>\n",
              "      <td>0.001996</td>\n",
              "      <td>0.000904</td>\n",
              "      <td>0.003442</td>\n",
              "      <td>0.005362</td>\n",
              "      <td>0.000531</td>\n",
              "      <td>0.005485</td>\n",
              "      <td>0.003958</td>\n",
              "      <td>0.000492</td>\n",
              "      <td>0.024391</td>\n",
              "    </tr>\n",
              "    <tr>\n",
              "      <th>over</th>\n",
              "      <td>0.008268</td>\n",
              "      <td>0.050076</td>\n",
              "      <td>1.000000</td>\n",
              "      <td>0.007424</td>\n",
              "      <td>0.034329</td>\n",
              "      <td>0.010003</td>\n",
              "      <td>0.012111</td>\n",
              "      <td>0.004764</td>\n",
              "      <td>0.016984</td>\n",
              "      <td>0.000979</td>\n",
              "      <td>0.086701</td>\n",
              "      <td>0.002479</td>\n",
              "      <td>0.086326</td>\n",
              "      <td>0.008268</td>\n",
              "      <td>0.004198</td>\n",
              "      <td>0.038424</td>\n",
              "    </tr>\n",
              "    <tr>\n",
              "      <th>ball</th>\n",
              "      <td>0.001349</td>\n",
              "      <td>0.003943</td>\n",
              "      <td>0.007424</td>\n",
              "      <td>1.000000</td>\n",
              "      <td>0.001143</td>\n",
              "      <td>0.004665</td>\n",
              "      <td>0.006602</td>\n",
              "      <td>0.002727</td>\n",
              "      <td>0.000567</td>\n",
              "      <td>0.000711</td>\n",
              "      <td>0.007950</td>\n",
              "      <td>0.002576</td>\n",
              "      <td>0.007414</td>\n",
              "      <td>0.001349</td>\n",
              "      <td>0.001216</td>\n",
              "      <td>0.002015</td>\n",
              "    </tr>\n",
              "    <tr>\n",
              "      <th>is_super_over</th>\n",
              "      <td>0.009150</td>\n",
              "      <td>0.084154</td>\n",
              "      <td>0.034329</td>\n",
              "      <td>0.001143</td>\n",
              "      <td>1.000000</td>\n",
              "      <td>0.001019</td>\n",
              "      <td>0.001353</td>\n",
              "      <td>0.001735</td>\n",
              "      <td>0.013640</td>\n",
              "      <td>0.000071</td>\n",
              "      <td>0.010125</td>\n",
              "      <td>0.003504</td>\n",
              "      <td>0.010891</td>\n",
              "      <td>0.009150</td>\n",
              "      <td>0.012258</td>\n",
              "      <td>0.020729</td>\n",
              "    </tr>\n",
              "    <tr>\n",
              "      <th>wide_runs</th>\n",
              "      <td>0.007549</td>\n",
              "      <td>0.001201</td>\n",
              "      <td>0.010003</td>\n",
              "      <td>0.004665</td>\n",
              "      <td>0.001019</td>\n",
              "      <td>1.000000</td>\n",
              "      <td>0.006196</td>\n",
              "      <td>0.015855</td>\n",
              "      <td>0.008675</td>\n",
              "      <td>0.012817</td>\n",
              "      <td>0.094579</td>\n",
              "      <td>0.720916</td>\n",
              "      <td>0.059077</td>\n",
              "      <td>0.007549</td>\n",
              "      <td>0.000093</td>\n",
              "      <td>0.005831</td>\n",
              "    </tr>\n",
              "    <tr>\n",
              "      <th>bye_runs</th>\n",
              "      <td>0.000905</td>\n",
              "      <td>0.000757</td>\n",
              "      <td>0.012111</td>\n",
              "      <td>0.006602</td>\n",
              "      <td>0.001353</td>\n",
              "      <td>0.006196</td>\n",
              "      <td>1.000000</td>\n",
              "      <td>0.004596</td>\n",
              "      <td>0.002515</td>\n",
              "      <td>0.000142</td>\n",
              "      <td>0.018936</td>\n",
              "      <td>0.332352</td>\n",
              "      <td>0.051946</td>\n",
              "      <td>0.000905</td>\n",
              "      <td>0.002362</td>\n",
              "      <td>0.004959</td>\n",
              "    </tr>\n",
              "    <tr>\n",
              "      <th>legbye_runs</th>\n",
              "      <td>0.012429</td>\n",
              "      <td>0.001996</td>\n",
              "      <td>0.004764</td>\n",
              "      <td>0.002727</td>\n",
              "      <td>0.001735</td>\n",
              "      <td>0.015855</td>\n",
              "      <td>0.004596</td>\n",
              "      <td>1.000000</td>\n",
              "      <td>0.006434</td>\n",
              "      <td>0.000362</td>\n",
              "      <td>0.070106</td>\n",
              "      <td>0.554458</td>\n",
              "      <td>0.048075</td>\n",
              "      <td>0.012429</td>\n",
              "      <td>0.003124</td>\n",
              "      <td>0.005205</td>\n",
              "    </tr>\n",
              "    <tr>\n",
              "      <th>noball_runs</th>\n",
              "      <td>0.004623</td>\n",
              "      <td>0.000904</td>\n",
              "      <td>0.016984</td>\n",
              "      <td>0.000567</td>\n",
              "      <td>0.013640</td>\n",
              "      <td>0.008675</td>\n",
              "      <td>0.002515</td>\n",
              "      <td>0.006434</td>\n",
              "      <td>1.000000</td>\n",
              "      <td>0.000198</td>\n",
              "      <td>0.004832</td>\n",
              "      <td>0.194899</td>\n",
              "      <td>0.046427</td>\n",
              "      <td>0.004623</td>\n",
              "      <td>0.003536</td>\n",
              "      <td>0.001300</td>\n",
              "    </tr>\n",
              "    <tr>\n",
              "      <th>penalty_runs</th>\n",
              "      <td>0.001475</td>\n",
              "      <td>0.003442</td>\n",
              "      <td>0.000979</td>\n",
              "      <td>0.000711</td>\n",
              "      <td>0.000071</td>\n",
              "      <td>0.012817</td>\n",
              "      <td>0.000142</td>\n",
              "      <td>0.000362</td>\n",
              "      <td>0.000198</td>\n",
              "      <td>1.000000</td>\n",
              "      <td>0.002591</td>\n",
              "      <td>0.057882</td>\n",
              "      <td>0.009755</td>\n",
              "      <td>0.001475</td>\n",
              "      <td>0.001926</td>\n",
              "      <td>0.004232</td>\n",
              "    </tr>\n",
              "    <tr>\n",
              "      <th>batsman_runs</th>\n",
              "      <td>0.033510</td>\n",
              "      <td>0.005362</td>\n",
              "      <td>0.086701</td>\n",
              "      <td>0.007950</td>\n",
              "      <td>0.010125</td>\n",
              "      <td>0.094579</td>\n",
              "      <td>0.018936</td>\n",
              "      <td>0.070106</td>\n",
              "      <td>0.004832</td>\n",
              "      <td>0.002591</td>\n",
              "      <td>1.000000</td>\n",
              "      <td>0.114806</td>\n",
              "      <td>0.977278</td>\n",
              "      <td>0.033510</td>\n",
              "      <td>0.003054</td>\n",
              "      <td>0.008282</td>\n",
              "    </tr>\n",
              "    <tr>\n",
              "      <th>extra_runs</th>\n",
              "      <td>0.013323</td>\n",
              "      <td>0.000531</td>\n",
              "      <td>0.002479</td>\n",
              "      <td>0.002576</td>\n",
              "      <td>0.003504</td>\n",
              "      <td>0.720916</td>\n",
              "      <td>0.332352</td>\n",
              "      <td>0.554458</td>\n",
              "      <td>0.194899</td>\n",
              "      <td>0.057882</td>\n",
              "      <td>0.114806</td>\n",
              "      <td>1.000000</td>\n",
              "      <td>0.098363</td>\n",
              "      <td>0.013323</td>\n",
              "      <td>0.003147</td>\n",
              "      <td>0.000433</td>\n",
              "    </tr>\n",
              "    <tr>\n",
              "      <th>total_runs</th>\n",
              "      <td>0.030727</td>\n",
              "      <td>0.005485</td>\n",
              "      <td>0.086326</td>\n",
              "      <td>0.007414</td>\n",
              "      <td>0.010891</td>\n",
              "      <td>0.059077</td>\n",
              "      <td>0.051946</td>\n",
              "      <td>0.048075</td>\n",
              "      <td>0.046427</td>\n",
              "      <td>0.009755</td>\n",
              "      <td>0.977278</td>\n",
              "      <td>0.098363</td>\n",
              "      <td>1.000000</td>\n",
              "      <td>0.030727</td>\n",
              "      <td>0.003731</td>\n",
              "      <td>0.008390</td>\n",
              "    </tr>\n",
              "    <tr>\n",
              "      <th>id</th>\n",
              "      <td>1.000000</td>\n",
              "      <td>0.003958</td>\n",
              "      <td>0.008268</td>\n",
              "      <td>0.001349</td>\n",
              "      <td>0.009150</td>\n",
              "      <td>0.007549</td>\n",
              "      <td>0.000905</td>\n",
              "      <td>0.012429</td>\n",
              "      <td>0.004623</td>\n",
              "      <td>0.001475</td>\n",
              "      <td>0.033510</td>\n",
              "      <td>0.013323</td>\n",
              "      <td>0.030727</td>\n",
              "      <td>1.000000</td>\n",
              "      <td>0.039757</td>\n",
              "      <td>0.005500</td>\n",
              "    </tr>\n",
              "    <tr>\n",
              "      <th>Bat_1</th>\n",
              "      <td>0.039757</td>\n",
              "      <td>0.000492</td>\n",
              "      <td>0.004198</td>\n",
              "      <td>0.001216</td>\n",
              "      <td>0.012258</td>\n",
              "      <td>0.000093</td>\n",
              "      <td>0.002362</td>\n",
              "      <td>0.003124</td>\n",
              "      <td>0.003536</td>\n",
              "      <td>0.001926</td>\n",
              "      <td>0.003054</td>\n",
              "      <td>0.003147</td>\n",
              "      <td>0.003731</td>\n",
              "      <td>0.039757</td>\n",
              "      <td>1.000000</td>\n",
              "      <td>0.561536</td>\n",
              "    </tr>\n",
              "    <tr>\n",
              "      <th>Ball_1</th>\n",
              "      <td>0.005500</td>\n",
              "      <td>0.024391</td>\n",
              "      <td>0.038424</td>\n",
              "      <td>0.002015</td>\n",
              "      <td>0.020729</td>\n",
              "      <td>0.005831</td>\n",
              "      <td>0.004959</td>\n",
              "      <td>0.005205</td>\n",
              "      <td>0.001300</td>\n",
              "      <td>0.004232</td>\n",
              "      <td>0.008282</td>\n",
              "      <td>0.000433</td>\n",
              "      <td>0.008390</td>\n",
              "      <td>0.005500</td>\n",
              "      <td>0.561536</td>\n",
              "      <td>1.000000</td>\n",
              "    </tr>\n",
              "  </tbody>\n",
              "</table>\n",
              "</div>"
            ],
            "text/plain": [
              "               match_id    inning      over  ...        id     Bat_1    Ball_1\n",
              "match_id       1.000000  0.003958  0.008268  ...  1.000000  0.039757  0.005500\n",
              "inning         0.003958  1.000000  0.050076  ...  0.003958  0.000492  0.024391\n",
              "over           0.008268  0.050076  1.000000  ...  0.008268  0.004198  0.038424\n",
              "ball           0.001349  0.003943  0.007424  ...  0.001349  0.001216  0.002015\n",
              "is_super_over  0.009150  0.084154  0.034329  ...  0.009150  0.012258  0.020729\n",
              "wide_runs      0.007549  0.001201  0.010003  ...  0.007549  0.000093  0.005831\n",
              "bye_runs       0.000905  0.000757  0.012111  ...  0.000905  0.002362  0.004959\n",
              "legbye_runs    0.012429  0.001996  0.004764  ...  0.012429  0.003124  0.005205\n",
              "noball_runs    0.004623  0.000904  0.016984  ...  0.004623  0.003536  0.001300\n",
              "penalty_runs   0.001475  0.003442  0.000979  ...  0.001475  0.001926  0.004232\n",
              "batsman_runs   0.033510  0.005362  0.086701  ...  0.033510  0.003054  0.008282\n",
              "extra_runs     0.013323  0.000531  0.002479  ...  0.013323  0.003147  0.000433\n",
              "total_runs     0.030727  0.005485  0.086326  ...  0.030727  0.003731  0.008390\n",
              "id             1.000000  0.003958  0.008268  ...  1.000000  0.039757  0.005500\n",
              "Bat_1          0.039757  0.000492  0.004198  ...  0.039757  1.000000  0.561536\n",
              "Ball_1         0.005500  0.024391  0.038424  ...  0.005500  0.561536  1.000000\n",
              "\n",
              "[16 rows x 16 columns]"
            ]
          },
          "metadata": {
            "tags": []
          },
          "execution_count": 93
        }
      ]
    },
    {
      "cell_type": "markdown",
      "metadata": {
        "id": "YUUc9IDsWabE"
      },
      "source": [
        "### Number of Matches Played in Each Stadium"
      ]
    },
    {
      "cell_type": "code",
      "metadata": {
        "colab": {
          "base_uri": "https://localhost:8080/",
          "height": 866
        },
        "id": "vw9MJNxLWdnY",
        "outputId": "31142707-3e1c-46ed-8aab-311cd3321a2c"
      },
      "source": [
        "delivery=data_matches\n",
        "delivery.venue.value_counts()\n",
        "\n",
        "plt.figure(figsize=(10,10))\n",
        "sns.countplot(data=delivery, x='venue')\n",
        "plt.xticks(rotation=90)\n",
        "plt.show()"
      ],
      "execution_count": 94,
      "outputs": [
        {
          "output_type": "display_data",
          "data": {
            "image/png": "[encoded data removed]",
            "text/plain": [
              "<Figure size 720x720 with 1 Axes>"
            ]
          },
          "metadata": {
            "tags": [],
            "needs_background": "light"
          }
        }
      ]
    },
    {
      "cell_type": "markdown",
      "metadata": {
        "id": "RROljdj3WiYB"
      },
      "source": [
        "Most matches have been played in Eden Gardens followed by Wankhede Stadium.\n",
        "Teams who win toss choose to field first"
      ]
    },
    {
      "cell_type": "code",
      "metadata": {
        "colab": {
          "base_uri": "https://localhost:8080/",
          "height": 514
        },
        "id": "cVI57veKWjWH",
        "outputId": "6a8df21c-6630-4f5e-eb67-07720d65913e"
      },
      "source": [
        "team_stats = pd.DataFrame({'Total Matches played': data_matches.team1.value_counts() + data_matches.team2.value_counts(), 'Total won': data_matches.winner.value_counts(), 'Toss won': data_matches.toss_winner.value_counts(), \n",
        "                          'Total lost': ((data_matches.team1.value_counts() + data_matches.team2.value_counts()) - data_matches.winner.value_counts())})\n",
        "team_stats = team_stats.reset_index()\n",
        "team_stats.rename(columns = {'index':'Teams'}, inplace = True)\n",
        "winloss = team_stats['Total won'] / team_stats['Total Matches played']\n",
        "winloss = pd.DataFrame({'Winloss Ratio': team_stats['Total won'] / team_stats['Total Matches played']})\n",
        "winloss= winloss.round(2)\n",
        "team_stats = team_stats.join(winloss)\n",
        "team_stats"
      ],
      "execution_count": 95,
      "outputs": [
        {
          "output_type": "execute_result",
          "data": {
            "text/html": [
              "<div>\n",
              "<style scoped>\n",
              "    .dataframe tbody tr th:only-of-type {\n",
              "        vertical-align: middle;\n",
              "    }\n",
              "\n",
              "    .dataframe tbody tr th {\n",
              "        vertical-align: top;\n",
              "    }\n",
              "\n",
              "    .dataframe thead th {\n",
              "        text-align: right;\n",
              "    }\n",
              "</style>\n",
              "<table border=\"1\" class=\"dataframe\">\n",
              "  <thead>\n",
              "    <tr style=\"text-align: right;\">\n",
              "      <th></th>\n",
              "      <th>Teams</th>\n",
              "      <th>Total Matches played</th>\n",
              "      <th>Total won</th>\n",
              "      <th>Toss won</th>\n",
              "      <th>Total lost</th>\n",
              "      <th>Winloss Ratio</th>\n",
              "    </tr>\n",
              "  </thead>\n",
              "  <tbody>\n",
              "    <tr>\n",
              "      <th>0</th>\n",
              "      <td>Chennai Super Kings</td>\n",
              "      <td>164</td>\n",
              "      <td>100</td>\n",
              "      <td>89</td>\n",
              "      <td>64</td>\n",
              "      <td>0.61</td>\n",
              "    </tr>\n",
              "    <tr>\n",
              "      <th>1</th>\n",
              "      <td>Deccan Chargers</td>\n",
              "      <td>75</td>\n",
              "      <td>29</td>\n",
              "      <td>43</td>\n",
              "      <td>46</td>\n",
              "      <td>0.39</td>\n",
              "    </tr>\n",
              "    <tr>\n",
              "      <th>2</th>\n",
              "      <td>Delhi Capitals</td>\n",
              "      <td>16</td>\n",
              "      <td>10</td>\n",
              "      <td>10</td>\n",
              "      <td>6</td>\n",
              "      <td>0.62</td>\n",
              "    </tr>\n",
              "    <tr>\n",
              "      <th>3</th>\n",
              "      <td>Delhi Daredevils</td>\n",
              "      <td>161</td>\n",
              "      <td>67</td>\n",
              "      <td>80</td>\n",
              "      <td>94</td>\n",
              "      <td>0.42</td>\n",
              "    </tr>\n",
              "    <tr>\n",
              "      <th>4</th>\n",
              "      <td>Gujarat Lions</td>\n",
              "      <td>30</td>\n",
              "      <td>13</td>\n",
              "      <td>15</td>\n",
              "      <td>17</td>\n",
              "      <td>0.43</td>\n",
              "    </tr>\n",
              "    <tr>\n",
              "      <th>5</th>\n",
              "      <td>Kings XI Punjab</td>\n",
              "      <td>176</td>\n",
              "      <td>82</td>\n",
              "      <td>81</td>\n",
              "      <td>94</td>\n",
              "      <td>0.47</td>\n",
              "    </tr>\n",
              "    <tr>\n",
              "      <th>6</th>\n",
              "      <td>Kochi Tuskers Kerala</td>\n",
              "      <td>14</td>\n",
              "      <td>6</td>\n",
              "      <td>8</td>\n",
              "      <td>8</td>\n",
              "      <td>0.43</td>\n",
              "    </tr>\n",
              "    <tr>\n",
              "      <th>7</th>\n",
              "      <td>Kolkata Knight Riders</td>\n",
              "      <td>178</td>\n",
              "      <td>92</td>\n",
              "      <td>92</td>\n",
              "      <td>86</td>\n",
              "      <td>0.52</td>\n",
              "    </tr>\n",
              "    <tr>\n",
              "      <th>8</th>\n",
              "      <td>Mumbai Indians</td>\n",
              "      <td>187</td>\n",
              "      <td>113</td>\n",
              "      <td>98</td>\n",
              "      <td>74</td>\n",
              "      <td>0.60</td>\n",
              "    </tr>\n",
              "    <tr>\n",
              "      <th>9</th>\n",
              "      <td>Pune Warriors</td>\n",
              "      <td>46</td>\n",
              "      <td>12</td>\n",
              "      <td>20</td>\n",
              "      <td>34</td>\n",
              "      <td>0.26</td>\n",
              "    </tr>\n",
              "    <tr>\n",
              "      <th>10</th>\n",
              "      <td>Rajasthan Royals</td>\n",
              "      <td>147</td>\n",
              "      <td>75</td>\n",
              "      <td>80</td>\n",
              "      <td>72</td>\n",
              "      <td>0.51</td>\n",
              "    </tr>\n",
              "    <tr>\n",
              "      <th>11</th>\n",
              "      <td>Rising Pune Supergiant</td>\n",
              "      <td>16</td>\n",
              "      <td>10</td>\n",
              "      <td>6</td>\n",
              "      <td>6</td>\n",
              "      <td>0.62</td>\n",
              "    </tr>\n",
              "    <tr>\n",
              "      <th>12</th>\n",
              "      <td>Rising Pune Supergiants</td>\n",
              "      <td>14</td>\n",
              "      <td>5</td>\n",
              "      <td>7</td>\n",
              "      <td>9</td>\n",
              "      <td>0.36</td>\n",
              "    </tr>\n",
              "    <tr>\n",
              "      <th>13</th>\n",
              "      <td>Royal Challengers Bangalore</td>\n",
              "      <td>180</td>\n",
              "      <td>84</td>\n",
              "      <td>81</td>\n",
              "      <td>96</td>\n",
              "      <td>0.47</td>\n",
              "    </tr>\n",
              "    <tr>\n",
              "      <th>14</th>\n",
              "      <td>Sunrisers Hyderabad</td>\n",
              "      <td>108</td>\n",
              "      <td>58</td>\n",
              "      <td>46</td>\n",
              "      <td>50</td>\n",
              "      <td>0.54</td>\n",
              "    </tr>\n",
              "  </tbody>\n",
              "</table>\n",
              "</div>"
            ],
            "text/plain": [
              "                          Teams  ...  Winloss Ratio\n",
              "0           Chennai Super Kings  ...           0.61\n",
              "1               Deccan Chargers  ...           0.39\n",
              "2                Delhi Capitals  ...           0.62\n",
              "3              Delhi Daredevils  ...           0.42\n",
              "4                 Gujarat Lions  ...           0.43\n",
              "5               Kings XI Punjab  ...           0.47\n",
              "6          Kochi Tuskers Kerala  ...           0.43\n",
              "7         Kolkata Knight Riders  ...           0.52\n",
              "8                Mumbai Indians  ...           0.60\n",
              "9                 Pune Warriors  ...           0.26\n",
              "10             Rajasthan Royals  ...           0.51\n",
              "11       Rising Pune Supergiant  ...           0.62\n",
              "12      Rising Pune Supergiants  ...           0.36\n",
              "13  Royal Challengers Bangalore  ...           0.47\n",
              "14          Sunrisers Hyderabad  ...           0.54\n",
              "\n",
              "[15 rows x 6 columns]"
            ]
          },
          "metadata": {
            "tags": []
          },
          "execution_count": 95
        }
      ]
    },
    {
      "cell_type": "markdown",
      "metadata": {
        "id": "uhZJSx6XW4P-"
      },
      "source": [
        "### Maximum Toss Won"
      ]
    },
    {
      "cell_type": "code",
      "metadata": {
        "colab": {
          "base_uri": "https://localhost:8080/",
          "height": 578
        },
        "id": "jZgA8ghzW7Kw",
        "outputId": "947fa76a-8c04-4eb7-d46f-7a40710ee4c4"
      },
      "source": [
        "plt.subplots(figsize=(10,7))\n",
        "data_matches['toss_winner'].value_counts().plot.bar(width=0.8)\n",
        "plt.title(\"Maximum Toss Won\");"
      ],
      "execution_count": 96,
      "outputs": [
        {
          "output_type": "display_data",
          "data": {
            "image/png": "[encoded data removed]",
            "text/plain": [
              "<Figure size 720x504 with 1 Axes>"
            ]
          },
          "metadata": {
            "tags": [],
            "needs_background": "light"
          }
        }
      ]
    },
    {
      "cell_type": "code",
      "metadata": {
        "colab": {
          "base_uri": "https://localhost:8080/",
          "height": 264
        },
        "id": "zDHetW5-XEfP",
        "outputId": "26b36ec7-bda4-4dac-fc62-eef7c4e9a9b6"
      },
      "source": [
        "Tosswin_matchwin=data_matches[data_matches['toss_winner']==data_matches['winner']]\n",
        "slices=[len(Tosswin_matchwin),(len(data_matches)-len(Tosswin_matchwin))]\n",
        "labels=['Yes','No']\n",
        "plt.pie(slices,labels=labels,startangle=90,shadow=True,explode=(0,0),autopct='%1.1f%%')\n",
        "plt.title(\"Teams who had won Toss and Won the match\");\n",
        "\n"
      ],
      "execution_count": 97,
      "outputs": [
        {
          "output_type": "display_data",
          "data": {
            "image/png": "[encoded data removed]",
            "text/plain": [
              "<Figure size 432x288 with 1 Axes>"
            ]
          },
          "metadata": {
            "tags": []
          }
        }
      ]
    },
    {
      "cell_type": "markdown",
      "metadata": {
        "id": "CcaXp1rHXTTK"
      },
      "source": [
        "### Deciding Whether to Bat or Field After Winning the Toss"
      ]
    },
    {
      "cell_type": "code",
      "metadata": {
        "colab": {
          "base_uri": "https://localhost:8080/",
          "height": 265
        },
        "id": "xSwy1sYtXV_S",
        "outputId": "593772ea-fa4d-4a9d-9d6e-1c7eb4bd2ecc"
      },
      "source": [
        "delivery.toss_decision.value_counts().plot(kind='bar')\n",
        "plt.xticks(rotation=0);"
      ],
      "execution_count": 98,
      "outputs": [
        {
          "output_type": "display_data",
          "data": {
            "image/png": "[encoded data removed]",
            "text/plain": [
              "<Figure size 432x288 with 1 Axes>"
            ]
          },
          "metadata": {
            "tags": [],
            "needs_background": "light"
          }
        }
      ]
    },
    {
      "cell_type": "markdown",
      "metadata": {
        "id": "rXjVy078Xafv"
      },
      "source": [
        "### Relation between Winning toss and victory"
      ]
    },
    {
      "cell_type": "code",
      "metadata": {
        "colab": {
          "base_uri": "https://localhost:8080/",
          "height": 513
        },
        "id": "Tg1FdpPZXdmI",
        "outputId": "73000527-84b5-4de1-acbb-8eb53feabed4"
      },
      "source": [
        "delivery\n",
        "delivery['team_toss_win']=np.where((delivery.toss_winner==delivery.winner),1,0)\n",
        "plt.figure(figsize=(10,8))\n",
        "sns.countplot('team_toss_win', data=delivery, hue='toss_decision')\n",
        "plt.xlabel(\"Winning the Toss vs Winning the Match\")\n",
        "plt.ylabel(\"Frequency\")\n",
        "plt.title(\"Toss Wins vs Victory\");"
      ],
      "execution_count": 99,
      "outputs": [
        {
          "output_type": "display_data",
          "data": {
            "image/png": "[encoded data removed]",
            "text/plain": [
              "<Figure size 720x576 with 1 Axes>"
            ]
          },
          "metadata": {
            "tags": [],
            "needs_background": "light"
          }
        }
      ]
    },
    {
      "cell_type": "markdown",
      "metadata": {
        "id": "m4Z1CzNGXkel"
      },
      "source": [
        "Teams who choose to field after winning the toss have high chances of winning."
      ]
    },
    {
      "cell_type": "markdown",
      "metadata": {
        "id": "53stpRKuXlXP"
      },
      "source": [
        "### Batsmen overview"
      ]
    },
    {
      "cell_type": "code",
      "metadata": {
        "colab": {
          "base_uri": "https://localhost:8080/",
          "height": 390
        },
        "id": "MBmrFCdWXj7a",
        "outputId": "c0064af3-4f5e-405f-fe11-7cd8cfcb224d"
      },
      "source": [
        "\n",
        "batsmen = data_deliveries.groupby(\"batsman\").agg({'ball': 'count','batsman_runs': 'sum'})\n",
        "batsmen.rename(columns={'ball':'balls', 'batsman_runs': 'runs'}, inplace=True)\n",
        "batsmen = batsmen.sort_values(['balls','runs'], ascending=False)\n",
        "batsmen['batting_strike_rate'] = batsmen['runs']/batsmen['balls'] * 100\n",
        "batsmen['batting_strike_rate'] = batsmen['batting_strike_rate'].round(2)\n",
        "batsmen.head(10)"
      ],
      "execution_count": 100,
      "outputs": [
        {
          "output_type": "execute_result",
          "data": {
            "text/html": [
              "<div>\n",
              "<style scoped>\n",
              "    .dataframe tbody tr th:only-of-type {\n",
              "        vertical-align: middle;\n",
              "    }\n",
              "\n",
              "    .dataframe tbody tr th {\n",
              "        vertical-align: top;\n",
              "    }\n",
              "\n",
              "    .dataframe thead th {\n",
              "        text-align: right;\n",
              "    }\n",
              "</style>\n",
              "<table border=\"1\" class=\"dataframe\">\n",
              "  <thead>\n",
              "    <tr style=\"text-align: right;\">\n",
              "      <th></th>\n",
              "      <th>balls</th>\n",
              "      <th>runs</th>\n",
              "      <th>batting_strike_rate</th>\n",
              "    </tr>\n",
              "    <tr>\n",
              "      <th>batsman</th>\n",
              "      <th></th>\n",
              "      <th></th>\n",
              "      <th></th>\n",
              "    </tr>\n",
              "  </thead>\n",
              "  <tbody>\n",
              "    <tr>\n",
              "      <th>V Kohli</th>\n",
              "      <td>4211</td>\n",
              "      <td>5434</td>\n",
              "      <td>129.04</td>\n",
              "    </tr>\n",
              "    <tr>\n",
              "      <th>SK Raina</th>\n",
              "      <td>4044</td>\n",
              "      <td>5415</td>\n",
              "      <td>133.90</td>\n",
              "    </tr>\n",
              "    <tr>\n",
              "      <th>RG Sharma</th>\n",
              "      <td>3816</td>\n",
              "      <td>4914</td>\n",
              "      <td>128.77</td>\n",
              "    </tr>\n",
              "    <tr>\n",
              "      <th>S Dhawan</th>\n",
              "      <td>3776</td>\n",
              "      <td>4632</td>\n",
              "      <td>122.67</td>\n",
              "    </tr>\n",
              "    <tr>\n",
              "      <th>G Gambhir</th>\n",
              "      <td>3524</td>\n",
              "      <td>4223</td>\n",
              "      <td>119.84</td>\n",
              "    </tr>\n",
              "    <tr>\n",
              "      <th>RV Uthappa</th>\n",
              "      <td>3492</td>\n",
              "      <td>4446</td>\n",
              "      <td>127.32</td>\n",
              "    </tr>\n",
              "    <tr>\n",
              "      <th>DA Warner</th>\n",
              "      <td>3398</td>\n",
              "      <td>4741</td>\n",
              "      <td>139.52</td>\n",
              "    </tr>\n",
              "    <tr>\n",
              "      <th>MS Dhoni</th>\n",
              "      <td>3318</td>\n",
              "      <td>4477</td>\n",
              "      <td>134.93</td>\n",
              "    </tr>\n",
              "    <tr>\n",
              "      <th>AM Rahane</th>\n",
              "      <td>3215</td>\n",
              "      <td>3850</td>\n",
              "      <td>119.75</td>\n",
              "    </tr>\n",
              "    <tr>\n",
              "      <th>CH Gayle</th>\n",
              "      <td>3131</td>\n",
              "      <td>4560</td>\n",
              "      <td>145.64</td>\n",
              "    </tr>\n",
              "  </tbody>\n",
              "</table>\n",
              "</div>"
            ],
            "text/plain": [
              "            balls  runs  batting_strike_rate\n",
              "batsman                                     \n",
              "V Kohli      4211  5434               129.04\n",
              "SK Raina     4044  5415               133.90\n",
              "RG Sharma    3816  4914               128.77\n",
              "S Dhawan     3776  4632               122.67\n",
              "G Gambhir    3524  4223               119.84\n",
              "RV Uthappa   3492  4446               127.32\n",
              "DA Warner    3398  4741               139.52\n",
              "MS Dhoni     3318  4477               134.93\n",
              "AM Rahane    3215  3850               119.75\n",
              "CH Gayle     3131  4560               145.64"
            ]
          },
          "metadata": {
            "tags": []
          },
          "execution_count": 100
        }
      ]
    },
    {
      "cell_type": "code",
      "metadata": {
        "id": "UbZJp9IGXvqk"
      },
      "source": [
        "#utility function used later\n",
        "def trybuild(lookuplist, buildlist):\n",
        "    alist = []\n",
        "    for i in buildlist.index:\n",
        "        try:\n",
        "            #print(i)\n",
        "            alist.append(lookuplist[i])\n",
        "            #print(alist)\n",
        "        except KeyError:\n",
        "            #print('except')\n",
        "            alist.append(0)\n",
        "    return alist"
      ],
      "execution_count": 101,
      "outputs": []
    },
    {
      "cell_type": "code",
      "metadata": {
        "colab": {
          "base_uri": "https://localhost:8080/",
          "height": 701
        },
        "id": "UtEy6I56XyWi",
        "outputId": "ab6d9953-10b3-4069-d568-c3ffdfdbd6e1"
      },
      "source": [
        "TopBatsman = batsmen.sort_values(['balls','runs'], ascending=False)[:20]\n",
        "TopBatsman"
      ],
      "execution_count": 102,
      "outputs": [
        {
          "output_type": "execute_result",
          "data": {
            "text/html": [
              "<div>\n",
              "<style scoped>\n",
              "    .dataframe tbody tr th:only-of-type {\n",
              "        vertical-align: middle;\n",
              "    }\n",
              "\n",
              "    .dataframe tbody tr th {\n",
              "        vertical-align: top;\n",
              "    }\n",
              "\n",
              "    .dataframe thead th {\n",
              "        text-align: right;\n",
              "    }\n",
              "</style>\n",
              "<table border=\"1\" class=\"dataframe\">\n",
              "  <thead>\n",
              "    <tr style=\"text-align: right;\">\n",
              "      <th></th>\n",
              "      <th>balls</th>\n",
              "      <th>runs</th>\n",
              "      <th>batting_strike_rate</th>\n",
              "    </tr>\n",
              "    <tr>\n",
              "      <th>batsman</th>\n",
              "      <th></th>\n",
              "      <th></th>\n",
              "      <th></th>\n",
              "    </tr>\n",
              "  </thead>\n",
              "  <tbody>\n",
              "    <tr>\n",
              "      <th>V Kohli</th>\n",
              "      <td>4211</td>\n",
              "      <td>5434</td>\n",
              "      <td>129.04</td>\n",
              "    </tr>\n",
              "    <tr>\n",
              "      <th>SK Raina</th>\n",
              "      <td>4044</td>\n",
              "      <td>5415</td>\n",
              "      <td>133.90</td>\n",
              "    </tr>\n",
              "    <tr>\n",
              "      <th>RG Sharma</th>\n",
              "      <td>3816</td>\n",
              "      <td>4914</td>\n",
              "      <td>128.77</td>\n",
              "    </tr>\n",
              "    <tr>\n",
              "      <th>S Dhawan</th>\n",
              "      <td>3776</td>\n",
              "      <td>4632</td>\n",
              "      <td>122.67</td>\n",
              "    </tr>\n",
              "    <tr>\n",
              "      <th>G Gambhir</th>\n",
              "      <td>3524</td>\n",
              "      <td>4223</td>\n",
              "      <td>119.84</td>\n",
              "    </tr>\n",
              "    <tr>\n",
              "      <th>RV Uthappa</th>\n",
              "      <td>3492</td>\n",
              "      <td>4446</td>\n",
              "      <td>127.32</td>\n",
              "    </tr>\n",
              "    <tr>\n",
              "      <th>DA Warner</th>\n",
              "      <td>3398</td>\n",
              "      <td>4741</td>\n",
              "      <td>139.52</td>\n",
              "    </tr>\n",
              "    <tr>\n",
              "      <th>MS Dhoni</th>\n",
              "      <td>3318</td>\n",
              "      <td>4477</td>\n",
              "      <td>134.93</td>\n",
              "    </tr>\n",
              "    <tr>\n",
              "      <th>AM Rahane</th>\n",
              "      <td>3215</td>\n",
              "      <td>3850</td>\n",
              "      <td>119.75</td>\n",
              "    </tr>\n",
              "    <tr>\n",
              "      <th>CH Gayle</th>\n",
              "      <td>3131</td>\n",
              "      <td>4560</td>\n",
              "      <td>145.64</td>\n",
              "    </tr>\n",
              "    <tr>\n",
              "      <th>AB de Villiers</th>\n",
              "      <td>2977</td>\n",
              "      <td>4428</td>\n",
              "      <td>148.74</td>\n",
              "    </tr>\n",
              "    <tr>\n",
              "      <th>KD Karthik</th>\n",
              "      <td>2890</td>\n",
              "      <td>3688</td>\n",
              "      <td>127.61</td>\n",
              "    </tr>\n",
              "    <tr>\n",
              "      <th>AT Rayudu</th>\n",
              "      <td>2681</td>\n",
              "      <td>3326</td>\n",
              "      <td>124.06</td>\n",
              "    </tr>\n",
              "    <tr>\n",
              "      <th>SR Watson</th>\n",
              "      <td>2639</td>\n",
              "      <td>3614</td>\n",
              "      <td>136.95</td>\n",
              "    </tr>\n",
              "    <tr>\n",
              "      <th>PA Patel</th>\n",
              "      <td>2444</td>\n",
              "      <td>2874</td>\n",
              "      <td>117.59</td>\n",
              "    </tr>\n",
              "    <tr>\n",
              "      <th>MK Pandey</th>\n",
              "      <td>2425</td>\n",
              "      <td>2872</td>\n",
              "      <td>118.43</td>\n",
              "    </tr>\n",
              "    <tr>\n",
              "      <th>YK Pathan</th>\n",
              "      <td>2334</td>\n",
              "      <td>3241</td>\n",
              "      <td>138.86</td>\n",
              "    </tr>\n",
              "    <tr>\n",
              "      <th>JH Kallis</th>\n",
              "      <td>2291</td>\n",
              "      <td>2427</td>\n",
              "      <td>105.94</td>\n",
              "    </tr>\n",
              "    <tr>\n",
              "      <th>BB McCullum</th>\n",
              "      <td>2272</td>\n",
              "      <td>2893</td>\n",
              "      <td>127.33</td>\n",
              "    </tr>\n",
              "    <tr>\n",
              "      <th>Yuvraj Singh</th>\n",
              "      <td>2207</td>\n",
              "      <td>2765</td>\n",
              "      <td>125.28</td>\n",
              "    </tr>\n",
              "  </tbody>\n",
              "</table>\n",
              "</div>"
            ],
            "text/plain": [
              "                balls  runs  batting_strike_rate\n",
              "batsman                                         \n",
              "V Kohli          4211  5434               129.04\n",
              "SK Raina         4044  5415               133.90\n",
              "RG Sharma        3816  4914               128.77\n",
              "S Dhawan         3776  4632               122.67\n",
              "G Gambhir        3524  4223               119.84\n",
              "RV Uthappa       3492  4446               127.32\n",
              "DA Warner        3398  4741               139.52\n",
              "MS Dhoni         3318  4477               134.93\n",
              "AM Rahane        3215  3850               119.75\n",
              "CH Gayle         3131  4560               145.64\n",
              "AB de Villiers   2977  4428               148.74\n",
              "KD Karthik       2890  3688               127.61\n",
              "AT Rayudu        2681  3326               124.06\n",
              "SR Watson        2639  3614               136.95\n",
              "PA Patel         2444  2874               117.59\n",
              "MK Pandey        2425  2872               118.43\n",
              "YK Pathan        2334  3241               138.86\n",
              "JH Kallis        2291  2427               105.94\n",
              "BB McCullum      2272  2893               127.33\n",
              "Yuvraj Singh     2207  2765               125.28"
            ]
          },
          "metadata": {
            "tags": []
          },
          "execution_count": 102
        }
      ]
    },
    {
      "cell_type": "code",
      "metadata": {
        "colab": {
          "base_uri": "https://localhost:8080/",
          "height": 390
        },
        "id": "8wmI5m1gX2HJ",
        "outputId": "9578ff5e-b3b6-4198-d9f3-3e545b979736"
      },
      "source": [
        "alist = []\n",
        "for r in data_deliveries.batsman_runs.unique():\n",
        "    lookuplist = data_deliveries[data_deliveries.batsman_runs == r].groupby('batsman')['batsman'].count()\n",
        "    batsmen[str(r) + 's'] = trybuild(lookuplist, batsmen)\n",
        "    try:\n",
        "        alist.append(lookuplist[r])\n",
        "    except KeyError:\n",
        "        alist.append(0)\n",
        "TopBatsman = batsmen.sort_values(['balls','runs'], ascending=False)[:20]\n",
        "TopBatsman.head(10)"
      ],
      "execution_count": 103,
      "outputs": [
        {
          "output_type": "execute_result",
          "data": {
            "text/html": [
              "<div>\n",
              "<style scoped>\n",
              "    .dataframe tbody tr th:only-of-type {\n",
              "        vertical-align: middle;\n",
              "    }\n",
              "\n",
              "    .dataframe tbody tr th {\n",
              "        vertical-align: top;\n",
              "    }\n",
              "\n",
              "    .dataframe thead th {\n",
              "        text-align: right;\n",
              "    }\n",
              "</style>\n",
              "<table border=\"1\" class=\"dataframe\">\n",
              "  <thead>\n",
              "    <tr style=\"text-align: right;\">\n",
              "      <th></th>\n",
              "      <th>balls</th>\n",
              "      <th>runs</th>\n",
              "      <th>batting_strike_rate</th>\n",
              "      <th>0s</th>\n",
              "      <th>4s</th>\n",
              "      <th>1s</th>\n",
              "      <th>6s</th>\n",
              "      <th>3s</th>\n",
              "      <th>2s</th>\n",
              "      <th>5s</th>\n",
              "      <th>7s</th>\n",
              "    </tr>\n",
              "    <tr>\n",
              "      <th>batsman</th>\n",
              "      <th></th>\n",
              "      <th></th>\n",
              "      <th></th>\n",
              "      <th></th>\n",
              "      <th></th>\n",
              "      <th></th>\n",
              "      <th></th>\n",
              "      <th></th>\n",
              "      <th></th>\n",
              "      <th></th>\n",
              "      <th></th>\n",
              "    </tr>\n",
              "  </thead>\n",
              "  <tbody>\n",
              "    <tr>\n",
              "      <th>V Kohli</th>\n",
              "      <td>4211</td>\n",
              "      <td>5434</td>\n",
              "      <td>129.04</td>\n",
              "      <td>1493</td>\n",
              "      <td>482</td>\n",
              "      <td>1741</td>\n",
              "      <td>191</td>\n",
              "      <td>11</td>\n",
              "      <td>293</td>\n",
              "      <td>0</td>\n",
              "      <td>0</td>\n",
              "    </tr>\n",
              "    <tr>\n",
              "      <th>SK Raina</th>\n",
              "      <td>4044</td>\n",
              "      <td>5415</td>\n",
              "      <td>133.90</td>\n",
              "      <td>1381</td>\n",
              "      <td>495</td>\n",
              "      <td>1695</td>\n",
              "      <td>195</td>\n",
              "      <td>11</td>\n",
              "      <td>266</td>\n",
              "      <td>1</td>\n",
              "      <td>0</td>\n",
              "    </tr>\n",
              "    <tr>\n",
              "      <th>RG Sharma</th>\n",
              "      <td>3816</td>\n",
              "      <td>4914</td>\n",
              "      <td>128.77</td>\n",
              "      <td>1390</td>\n",
              "      <td>431</td>\n",
              "      <td>1589</td>\n",
              "      <td>194</td>\n",
              "      <td>5</td>\n",
              "      <td>205</td>\n",
              "      <td>1</td>\n",
              "      <td>1</td>\n",
              "    </tr>\n",
              "    <tr>\n",
              "      <th>S Dhawan</th>\n",
              "      <td>3776</td>\n",
              "      <td>4632</td>\n",
              "      <td>122.67</td>\n",
              "      <td>1455</td>\n",
              "      <td>526</td>\n",
              "      <td>1473</td>\n",
              "      <td>96</td>\n",
              "      <td>18</td>\n",
              "      <td>205</td>\n",
              "      <td>3</td>\n",
              "      <td>0</td>\n",
              "    </tr>\n",
              "    <tr>\n",
              "      <th>G Gambhir</th>\n",
              "      <td>3524</td>\n",
              "      <td>4223</td>\n",
              "      <td>119.84</td>\n",
              "      <td>1351</td>\n",
              "      <td>492</td>\n",
              "      <td>1358</td>\n",
              "      <td>59</td>\n",
              "      <td>15</td>\n",
              "      <td>249</td>\n",
              "      <td>0</td>\n",
              "      <td>0</td>\n",
              "    </tr>\n",
              "    <tr>\n",
              "      <th>RV Uthappa</th>\n",
              "      <td>3492</td>\n",
              "      <td>4446</td>\n",
              "      <td>127.32</td>\n",
              "      <td>1382</td>\n",
              "      <td>436</td>\n",
              "      <td>1295</td>\n",
              "      <td>156</td>\n",
              "      <td>13</td>\n",
              "      <td>206</td>\n",
              "      <td>4</td>\n",
              "      <td>0</td>\n",
              "    </tr>\n",
              "    <tr>\n",
              "      <th>DA Warner</th>\n",
              "      <td>3398</td>\n",
              "      <td>4741</td>\n",
              "      <td>139.52</td>\n",
              "      <td>1254</td>\n",
              "      <td>459</td>\n",
              "      <td>1213</td>\n",
              "      <td>181</td>\n",
              "      <td>18</td>\n",
              "      <td>271</td>\n",
              "      <td>2</td>\n",
              "      <td>0</td>\n",
              "    </tr>\n",
              "    <tr>\n",
              "      <th>MS Dhoni</th>\n",
              "      <td>3318</td>\n",
              "      <td>4477</td>\n",
              "      <td>134.93</td>\n",
              "      <td>1111</td>\n",
              "      <td>297</td>\n",
              "      <td>1383</td>\n",
              "      <td>207</td>\n",
              "      <td>14</td>\n",
              "      <td>304</td>\n",
              "      <td>0</td>\n",
              "      <td>2</td>\n",
              "    </tr>\n",
              "    <tr>\n",
              "      <th>AM Rahane</th>\n",
              "      <td>3215</td>\n",
              "      <td>3850</td>\n",
              "      <td>119.75</td>\n",
              "      <td>1198</td>\n",
              "      <td>405</td>\n",
              "      <td>1308</td>\n",
              "      <td>74</td>\n",
              "      <td>15</td>\n",
              "      <td>214</td>\n",
              "      <td>1</td>\n",
              "      <td>0</td>\n",
              "    </tr>\n",
              "    <tr>\n",
              "      <th>CH Gayle</th>\n",
              "      <td>3131</td>\n",
              "      <td>4560</td>\n",
              "      <td>145.64</td>\n",
              "      <td>1423</td>\n",
              "      <td>376</td>\n",
              "      <td>919</td>\n",
              "      <td>327</td>\n",
              "      <td>3</td>\n",
              "      <td>83</td>\n",
              "      <td>0</td>\n",
              "      <td>0</td>\n",
              "    </tr>\n",
              "  </tbody>\n",
              "</table>\n",
              "</div>"
            ],
            "text/plain": [
              "            balls  runs  batting_strike_rate    0s   4s  ...   6s  3s   2s  5s  7s\n",
              "batsman                                                  ...                      \n",
              "V Kohli      4211  5434               129.04  1493  482  ...  191  11  293   0   0\n",
              "SK Raina     4044  5415               133.90  1381  495  ...  195  11  266   1   0\n",
              "RG Sharma    3816  4914               128.77  1390  431  ...  194   5  205   1   1\n",
              "S Dhawan     3776  4632               122.67  1455  526  ...   96  18  205   3   0\n",
              "G Gambhir    3524  4223               119.84  1351  492  ...   59  15  249   0   0\n",
              "RV Uthappa   3492  4446               127.32  1382  436  ...  156  13  206   4   0\n",
              "DA Warner    3398  4741               139.52  1254  459  ...  181  18  271   2   0\n",
              "MS Dhoni     3318  4477               134.93  1111  297  ...  207  14  304   0   2\n",
              "AM Rahane    3215  3850               119.75  1198  405  ...   74  15  214   1   0\n",
              "CH Gayle     3131  4560               145.64  1423  376  ...  327   3   83   0   0\n",
              "\n",
              "[10 rows x 11 columns]"
            ]
          },
          "metadata": {
            "tags": []
          },
          "execution_count": 103
        }
      ]
    },
    {
      "cell_type": "code",
      "metadata": {
        "id": "XJh74iKNX2Ji"
      },
      "source": [
        "#Build a dictionary of Matches player by each batsman\n",
        "played = {}\n",
        "def BuildPlayedDict(x):\n",
        "    #print(x.shape, x.shape[0], x.shape[1])\n",
        "    for p in x.batsman.unique():\n",
        "        if p in played:\n",
        "            played[p] += 1\n",
        "        else:\n",
        "            played[p] = 1\n",
        "\n",
        "data_deliveries.groupby('match_id').apply(BuildPlayedDict)\n",
        "import operator"
      ],
      "execution_count": 104,
      "outputs": []
    },
    {
      "cell_type": "code",
      "metadata": {
        "colab": {
          "base_uri": "https://localhost:8080/",
          "height": 235
        },
        "id": "HAP7B-c4X7lp",
        "outputId": "95a4383d-957c-43d7-dfd2-172b64d8037e"
      },
      "source": [
        "TopBatsman['matches_played'] = [played[p] for p in TopBatsman.index]\n",
        "TopBatsman['average']= TopBatsman['runs']/TopBatsman['matches_played']\n",
        "\n",
        "TopBatsman['6s/match'] = TopBatsman['6s']/TopBatsman['matches_played']  \n",
        "TopBatsman['6s/match'].median()\n",
        "\n",
        "TopBatsman['4s/match'] = TopBatsman['4s']/TopBatsman['matches_played']  \n",
        "TopBatsman['4s/match']\n",
        "TopBatsman.head()"
      ],
      "execution_count": 105,
      "outputs": [
        {
          "output_type": "execute_result",
          "data": {
            "text/html": [
              "<div>\n",
              "<style scoped>\n",
              "    .dataframe tbody tr th:only-of-type {\n",
              "        vertical-align: middle;\n",
              "    }\n",
              "\n",
              "    .dataframe tbody tr th {\n",
              "        vertical-align: top;\n",
              "    }\n",
              "\n",
              "    .dataframe thead th {\n",
              "        text-align: right;\n",
              "    }\n",
              "</style>\n",
              "<table border=\"1\" class=\"dataframe\">\n",
              "  <thead>\n",
              "    <tr style=\"text-align: right;\">\n",
              "      <th></th>\n",
              "      <th>balls</th>\n",
              "      <th>runs</th>\n",
              "      <th>batting_strike_rate</th>\n",
              "      <th>0s</th>\n",
              "      <th>4s</th>\n",
              "      <th>1s</th>\n",
              "      <th>6s</th>\n",
              "      <th>3s</th>\n",
              "      <th>2s</th>\n",
              "      <th>5s</th>\n",
              "      <th>7s</th>\n",
              "      <th>matches_played</th>\n",
              "      <th>average</th>\n",
              "      <th>6s/match</th>\n",
              "      <th>4s/match</th>\n",
              "    </tr>\n",
              "    <tr>\n",
              "      <th>batsman</th>\n",
              "      <th></th>\n",
              "      <th></th>\n",
              "      <th></th>\n",
              "      <th></th>\n",
              "      <th></th>\n",
              "      <th></th>\n",
              "      <th></th>\n",
              "      <th></th>\n",
              "      <th></th>\n",
              "      <th></th>\n",
              "      <th></th>\n",
              "      <th></th>\n",
              "      <th></th>\n",
              "      <th></th>\n",
              "      <th></th>\n",
              "    </tr>\n",
              "  </thead>\n",
              "  <tbody>\n",
              "    <tr>\n",
              "      <th>V Kohli</th>\n",
              "      <td>4211</td>\n",
              "      <td>5434</td>\n",
              "      <td>129.04</td>\n",
              "      <td>1493</td>\n",
              "      <td>482</td>\n",
              "      <td>1741</td>\n",
              "      <td>191</td>\n",
              "      <td>11</td>\n",
              "      <td>293</td>\n",
              "      <td>0</td>\n",
              "      <td>0</td>\n",
              "      <td>169</td>\n",
              "      <td>32.153846</td>\n",
              "      <td>1.130178</td>\n",
              "      <td>2.852071</td>\n",
              "    </tr>\n",
              "    <tr>\n",
              "      <th>SK Raina</th>\n",
              "      <td>4044</td>\n",
              "      <td>5415</td>\n",
              "      <td>133.90</td>\n",
              "      <td>1381</td>\n",
              "      <td>495</td>\n",
              "      <td>1695</td>\n",
              "      <td>195</td>\n",
              "      <td>11</td>\n",
              "      <td>266</td>\n",
              "      <td>1</td>\n",
              "      <td>0</td>\n",
              "      <td>189</td>\n",
              "      <td>28.650794</td>\n",
              "      <td>1.031746</td>\n",
              "      <td>2.619048</td>\n",
              "    </tr>\n",
              "    <tr>\n",
              "      <th>RG Sharma</th>\n",
              "      <td>3816</td>\n",
              "      <td>4914</td>\n",
              "      <td>128.77</td>\n",
              "      <td>1390</td>\n",
              "      <td>431</td>\n",
              "      <td>1589</td>\n",
              "      <td>194</td>\n",
              "      <td>5</td>\n",
              "      <td>205</td>\n",
              "      <td>1</td>\n",
              "      <td>1</td>\n",
              "      <td>182</td>\n",
              "      <td>27.000000</td>\n",
              "      <td>1.065934</td>\n",
              "      <td>2.368132</td>\n",
              "    </tr>\n",
              "    <tr>\n",
              "      <th>S Dhawan</th>\n",
              "      <td>3776</td>\n",
              "      <td>4632</td>\n",
              "      <td>122.67</td>\n",
              "      <td>1455</td>\n",
              "      <td>526</td>\n",
              "      <td>1473</td>\n",
              "      <td>96</td>\n",
              "      <td>18</td>\n",
              "      <td>205</td>\n",
              "      <td>3</td>\n",
              "      <td>0</td>\n",
              "      <td>158</td>\n",
              "      <td>29.316456</td>\n",
              "      <td>0.607595</td>\n",
              "      <td>3.329114</td>\n",
              "    </tr>\n",
              "    <tr>\n",
              "      <th>G Gambhir</th>\n",
              "      <td>3524</td>\n",
              "      <td>4223</td>\n",
              "      <td>119.84</td>\n",
              "      <td>1351</td>\n",
              "      <td>492</td>\n",
              "      <td>1358</td>\n",
              "      <td>59</td>\n",
              "      <td>15</td>\n",
              "      <td>249</td>\n",
              "      <td>0</td>\n",
              "      <td>0</td>\n",
              "      <td>151</td>\n",
              "      <td>27.966887</td>\n",
              "      <td>0.390728</td>\n",
              "      <td>3.258278</td>\n",
              "    </tr>\n",
              "  </tbody>\n",
              "</table>\n",
              "</div>"
            ],
            "text/plain": [
              "           balls  runs  batting_strike_rate  ...    average  6s/match  4s/match\n",
              "batsman                                      ...                               \n",
              "V Kohli     4211  5434               129.04  ...  32.153846  1.130178  2.852071\n",
              "SK Raina    4044  5415               133.90  ...  28.650794  1.031746  2.619048\n",
              "RG Sharma   3816  4914               128.77  ...  27.000000  1.065934  2.368132\n",
              "S Dhawan    3776  4632               122.67  ...  29.316456  0.607595  3.329114\n",
              "G Gambhir   3524  4223               119.84  ...  27.966887  0.390728  3.258278\n",
              "\n",
              "[5 rows x 15 columns]"
            ]
          },
          "metadata": {
            "tags": []
          },
          "execution_count": 105
        }
      ]
    },
    {
      "cell_type": "markdown",
      "metadata": {
        "id": "8px9GoFjYCz2"
      },
      "source": [
        "Total runs by each batsmen"
      ]
    },
    {
      "cell_type": "code",
      "metadata": {
        "colab": {
          "base_uri": "https://localhost:8080/",
          "height": 569
        },
        "id": "yVKXoJ2kX7sV",
        "outputId": "d9a67eeb-125e-4857-9d29-d2b7c6f73f16"
      },
      "source": [
        "plt.figure(figsize=(10,8))\n",
        "plt.bar(np.arange(len(TopBatsman)),TopBatsman['runs'])\n",
        "plt.xticks(ticks=np.arange(len(TopBatsman)),labels=TopBatsman.index,rotation=90)\n",
        "plt.xlabel('Batsmen')\n",
        "plt.ylabel('Runs')\n",
        "plt.title('Total Runs')\n",
        "plt.show()\n"
      ],
      "execution_count": 106,
      "outputs": [
        {
          "output_type": "display_data",
          "data": {
            "image/png": "[encoded data removed]",
            "text/plain": [
              "<Figure size 720x576 with 1 Axes>"
            ]
          },
          "metadata": {
            "tags": [],
            "needs_background": "light"
          }
        }
      ]
    },
    {
      "cell_type": "markdown",
      "metadata": {
        "id": "KFNpl7hWYJa-"
      },
      "source": [
        "Each batsmen strike rate"
      ]
    },
    {
      "cell_type": "code",
      "metadata": {
        "colab": {
          "base_uri": "https://localhost:8080/",
          "height": 569
        },
        "id": "AarTBR3FYJIO",
        "outputId": "787e3b1e-9f86-455f-c171-6ca75c5d975f"
      },
      "source": [
        "plt.figure(figsize=(10,8))\n",
        "plt.bar(np.arange(len(TopBatsman)),TopBatsman['batting_strike_rate'])\n",
        "plt.xticks(ticks=np.arange(len(TopBatsman)),labels=TopBatsman.index,rotation=90)\n",
        "plt.xlabel('Batsmen')\n",
        "plt.ylabel('Strike Rate')\n",
        "plt.title('Batsmen Strike Rate')\n",
        "plt.show()"
      ],
      "execution_count": 107,
      "outputs": [
        {
          "output_type": "display_data",
          "data": {
            "image/png": "[encoded data removed]",
            "text/plain": [
              "<Figure size 720x576 with 1 Axes>"
            ]
          },
          "metadata": {
            "tags": [],
            "needs_background": "light"
          }
        }
      ]
    },
    {
      "cell_type": "markdown",
      "metadata": {
        "id": "vdsi1qViYQOF"
      },
      "source": [
        "Top 5 Batsmen"
      ]
    },
    {
      "cell_type": "code",
      "metadata": {
        "colab": {
          "base_uri": "https://localhost:8080/",
          "height": 342
        },
        "id": "WF6A38LKYQah",
        "outputId": "16677e13-403d-43cc-c5d1-4010efc7a84a"
      },
      "source": [
        "data_deliveries.groupby('batsman')['batsman_runs'].agg(\"sum\").sort_values(ascending= False).head().plot(kind='bar')\n",
        "plt.title(\"Top 5 Batsmen\");"
      ],
      "execution_count": 108,
      "outputs": [
        {
          "output_type": "display_data",
          "data": {
            "image/png": "[encoded data removed]",
            "text/plain": [
              "<Figure size 432x288 with 1 Axes>"
            ]
          },
          "metadata": {
            "tags": [],
            "needs_background": "light"
          }
        }
      ]
    },
    {
      "cell_type": "markdown",
      "metadata": {
        "id": "rrPY1RWTYfqm"
      },
      "source": [
        "Virat Kohli and S.K Raina Scored the most runs, so probability is that in whichever team they are that team has high chances of winning by runs.\n",
        "It is an important factor for a batsman in an T20 league to maintain a good strike rate. AB de Villiers and CH Gayle have almost equal strike rates."
      ]
    },
    {
      "cell_type": "markdown",
      "metadata": {
        "id": "5mkpKn0GYhsx"
      },
      "source": [
        "### Bowler information"
      ]
    },
    {
      "cell_type": "code",
      "metadata": {
        "colab": {
          "base_uri": "https://localhost:8080/",
          "height": 701
        },
        "id": "bJU0Hr9oYQcV",
        "outputId": "31fb3293-843b-4f6a-c361-d8fe18cedc5d"
      },
      "source": [
        "bowler_wickets = data_deliveries.groupby('bowler').aggregate({'ball': 'count', 'total_runs': 'sum', 'player_dismissed' : 'count'})\n",
        "bowler_wickets.columns = ['runs','balls','wickets']\n",
        "TopBowlers = bowler_wickets.sort_values(['wickets'], ascending=False)[:20]\n",
        "TopBowlers"
      ],
      "execution_count": 109,
      "outputs": [
        {
          "output_type": "execute_result",
          "data": {
            "text/html": [
              "<div>\n",
              "<style scoped>\n",
              "    .dataframe tbody tr th:only-of-type {\n",
              "        vertical-align: middle;\n",
              "    }\n",
              "\n",
              "    .dataframe tbody tr th {\n",
              "        vertical-align: top;\n",
              "    }\n",
              "\n",
              "    .dataframe thead th {\n",
              "        text-align: right;\n",
              "    }\n",
              "</style>\n",
              "<table border=\"1\" class=\"dataframe\">\n",
              "  <thead>\n",
              "    <tr style=\"text-align: right;\">\n",
              "      <th></th>\n",
              "      <th>runs</th>\n",
              "      <th>balls</th>\n",
              "      <th>wickets</th>\n",
              "    </tr>\n",
              "    <tr>\n",
              "      <th>bowler</th>\n",
              "      <th></th>\n",
              "      <th></th>\n",
              "      <th></th>\n",
              "    </tr>\n",
              "  </thead>\n",
              "  <tbody>\n",
              "    <tr>\n",
              "      <th>SL Malinga</th>\n",
              "      <td>2974</td>\n",
              "      <td>3511</td>\n",
              "      <td>188</td>\n",
              "    </tr>\n",
              "    <tr>\n",
              "      <th>DJ Bravo</th>\n",
              "      <td>2711</td>\n",
              "      <td>3733</td>\n",
              "      <td>168</td>\n",
              "    </tr>\n",
              "    <tr>\n",
              "      <th>A Mishra</th>\n",
              "      <td>3172</td>\n",
              "      <td>3850</td>\n",
              "      <td>165</td>\n",
              "    </tr>\n",
              "    <tr>\n",
              "      <th>Harbhajan Singh</th>\n",
              "      <td>3451</td>\n",
              "      <td>4050</td>\n",
              "      <td>161</td>\n",
              "    </tr>\n",
              "    <tr>\n",
              "      <th>PP Chawla</th>\n",
              "      <td>3157</td>\n",
              "      <td>4153</td>\n",
              "      <td>156</td>\n",
              "    </tr>\n",
              "    <tr>\n",
              "      <th>B Kumar</th>\n",
              "      <td>2707</td>\n",
              "      <td>3264</td>\n",
              "      <td>141</td>\n",
              "    </tr>\n",
              "    <tr>\n",
              "      <th>R Ashwin</th>\n",
              "      <td>3016</td>\n",
              "      <td>3391</td>\n",
              "      <td>138</td>\n",
              "    </tr>\n",
              "    <tr>\n",
              "      <th>SP Narine</th>\n",
              "      <td>2600</td>\n",
              "      <td>2939</td>\n",
              "      <td>137</td>\n",
              "    </tr>\n",
              "    <tr>\n",
              "      <th>UT Yadav</th>\n",
              "      <td>2605</td>\n",
              "      <td>3640</td>\n",
              "      <td>136</td>\n",
              "    </tr>\n",
              "    <tr>\n",
              "      <th>R Vinay Kumar</th>\n",
              "      <td>2186</td>\n",
              "      <td>3043</td>\n",
              "      <td>127</td>\n",
              "    </tr>\n",
              "    <tr>\n",
              "      <th>A Nehra</th>\n",
              "      <td>1974</td>\n",
              "      <td>2537</td>\n",
              "      <td>121</td>\n",
              "    </tr>\n",
              "    <tr>\n",
              "      <th>Z Khan</th>\n",
              "      <td>2276</td>\n",
              "      <td>2860</td>\n",
              "      <td>119</td>\n",
              "    </tr>\n",
              "    <tr>\n",
              "      <th>RA Jadeja</th>\n",
              "      <td>2541</td>\n",
              "      <td>3221</td>\n",
              "      <td>116</td>\n",
              "    </tr>\n",
              "    <tr>\n",
              "      <th>SR Watson</th>\n",
              "      <td>2137</td>\n",
              "      <td>2751</td>\n",
              "      <td>107</td>\n",
              "    </tr>\n",
              "    <tr>\n",
              "      <th>DW Steyn</th>\n",
              "      <td>2207</td>\n",
              "      <td>2454</td>\n",
              "      <td>104</td>\n",
              "    </tr>\n",
              "    <tr>\n",
              "      <th>YS Chahal</th>\n",
              "      <td>1841</td>\n",
              "      <td>2416</td>\n",
              "      <td>102</td>\n",
              "    </tr>\n",
              "    <tr>\n",
              "      <th>P Kumar</th>\n",
              "      <td>2637</td>\n",
              "      <td>3342</td>\n",
              "      <td>102</td>\n",
              "    </tr>\n",
              "    <tr>\n",
              "      <th>RP Singh</th>\n",
              "      <td>1874</td>\n",
              "      <td>2417</td>\n",
              "      <td>100</td>\n",
              "    </tr>\n",
              "    <tr>\n",
              "      <th>PP Ojha</th>\n",
              "      <td>1945</td>\n",
              "      <td>2399</td>\n",
              "      <td>99</td>\n",
              "    </tr>\n",
              "    <tr>\n",
              "      <th>MM Sharma</th>\n",
              "      <td>1770</td>\n",
              "      <td>2457</td>\n",
              "      <td>99</td>\n",
              "    </tr>\n",
              "  </tbody>\n",
              "</table>\n",
              "</div>"
            ],
            "text/plain": [
              "                 runs  balls  wickets\n",
              "bowler                               \n",
              "SL Malinga       2974   3511      188\n",
              "DJ Bravo         2711   3733      168\n",
              "A Mishra         3172   3850      165\n",
              "Harbhajan Singh  3451   4050      161\n",
              "PP Chawla        3157   4153      156\n",
              "B Kumar          2707   3264      141\n",
              "R Ashwin         3016   3391      138\n",
              "SP Narine        2600   2939      137\n",
              "UT Yadav         2605   3640      136\n",
              "R Vinay Kumar    2186   3043      127\n",
              "A Nehra          1974   2537      121\n",
              "Z Khan           2276   2860      119\n",
              "RA Jadeja        2541   3221      116\n",
              "SR Watson        2137   2751      107\n",
              "DW Steyn         2207   2454      104\n",
              "YS Chahal        1841   2416      102\n",
              "P Kumar          2637   3342      102\n",
              "RP Singh         1874   2417      100\n",
              "PP Ojha          1945   2399       99\n",
              "MM Sharma        1770   2457       99"
            ]
          },
          "metadata": {
            "tags": []
          },
          "execution_count": 109
        }
      ]
    },
    {
      "cell_type": "code",
      "metadata": {
        "colab": {
          "base_uri": "https://localhost:8080/",
          "height": 701
        },
        "id": "uRnbHCfoYQfx",
        "outputId": "394bf588-4828-42f9-a442-1d89def49971"
      },
      "source": [
        "TopBowlers['economy'] = TopBowlers['runs']/(TopBowlers['balls']/6)\n",
        "TopBowlers = TopBowlers.sort_values(['economy'], ascending=True)[:20]\n",
        "TopBowlers"
      ],
      "execution_count": 110,
      "outputs": [
        {
          "output_type": "execute_result",
          "data": {
            "text/html": [
              "<div>\n",
              "<style scoped>\n",
              "    .dataframe tbody tr th:only-of-type {\n",
              "        vertical-align: middle;\n",
              "    }\n",
              "\n",
              "    .dataframe tbody tr th {\n",
              "        vertical-align: top;\n",
              "    }\n",
              "\n",
              "    .dataframe thead th {\n",
              "        text-align: right;\n",
              "    }\n",
              "</style>\n",
              "<table border=\"1\" class=\"dataframe\">\n",
              "  <thead>\n",
              "    <tr style=\"text-align: right;\">\n",
              "      <th></th>\n",
              "      <th>runs</th>\n",
              "      <th>balls</th>\n",
              "      <th>wickets</th>\n",
              "      <th>economy</th>\n",
              "    </tr>\n",
              "    <tr>\n",
              "      <th>bowler</th>\n",
              "      <th></th>\n",
              "      <th></th>\n",
              "      <th></th>\n",
              "      <th></th>\n",
              "    </tr>\n",
              "  </thead>\n",
              "  <tbody>\n",
              "    <tr>\n",
              "      <th>UT Yadav</th>\n",
              "      <td>2605</td>\n",
              "      <td>3640</td>\n",
              "      <td>136</td>\n",
              "      <td>4.293956</td>\n",
              "    </tr>\n",
              "    <tr>\n",
              "      <th>R Vinay Kumar</th>\n",
              "      <td>2186</td>\n",
              "      <td>3043</td>\n",
              "      <td>127</td>\n",
              "      <td>4.310220</td>\n",
              "    </tr>\n",
              "    <tr>\n",
              "      <th>MM Sharma</th>\n",
              "      <td>1770</td>\n",
              "      <td>2457</td>\n",
              "      <td>99</td>\n",
              "      <td>4.322344</td>\n",
              "    </tr>\n",
              "    <tr>\n",
              "      <th>DJ Bravo</th>\n",
              "      <td>2711</td>\n",
              "      <td>3733</td>\n",
              "      <td>168</td>\n",
              "      <td>4.357353</td>\n",
              "    </tr>\n",
              "    <tr>\n",
              "      <th>PP Chawla</th>\n",
              "      <td>3157</td>\n",
              "      <td>4153</td>\n",
              "      <td>156</td>\n",
              "      <td>4.561040</td>\n",
              "    </tr>\n",
              "    <tr>\n",
              "      <th>YS Chahal</th>\n",
              "      <td>1841</td>\n",
              "      <td>2416</td>\n",
              "      <td>102</td>\n",
              "      <td>4.572020</td>\n",
              "    </tr>\n",
              "    <tr>\n",
              "      <th>RP Singh</th>\n",
              "      <td>1874</td>\n",
              "      <td>2417</td>\n",
              "      <td>100</td>\n",
              "      <td>4.652048</td>\n",
              "    </tr>\n",
              "    <tr>\n",
              "      <th>SR Watson</th>\n",
              "      <td>2137</td>\n",
              "      <td>2751</td>\n",
              "      <td>107</td>\n",
              "      <td>4.660851</td>\n",
              "    </tr>\n",
              "    <tr>\n",
              "      <th>A Nehra</th>\n",
              "      <td>1974</td>\n",
              "      <td>2537</td>\n",
              "      <td>121</td>\n",
              "      <td>4.668506</td>\n",
              "    </tr>\n",
              "    <tr>\n",
              "      <th>RA Jadeja</th>\n",
              "      <td>2541</td>\n",
              "      <td>3221</td>\n",
              "      <td>116</td>\n",
              "      <td>4.733313</td>\n",
              "    </tr>\n",
              "    <tr>\n",
              "      <th>P Kumar</th>\n",
              "      <td>2637</td>\n",
              "      <td>3342</td>\n",
              "      <td>102</td>\n",
              "      <td>4.734291</td>\n",
              "    </tr>\n",
              "    <tr>\n",
              "      <th>Z Khan</th>\n",
              "      <td>2276</td>\n",
              "      <td>2860</td>\n",
              "      <td>119</td>\n",
              "      <td>4.774825</td>\n",
              "    </tr>\n",
              "    <tr>\n",
              "      <th>PP Ojha</th>\n",
              "      <td>1945</td>\n",
              "      <td>2399</td>\n",
              "      <td>99</td>\n",
              "      <td>4.864527</td>\n",
              "    </tr>\n",
              "    <tr>\n",
              "      <th>A Mishra</th>\n",
              "      <td>3172</td>\n",
              "      <td>3850</td>\n",
              "      <td>165</td>\n",
              "      <td>4.943377</td>\n",
              "    </tr>\n",
              "    <tr>\n",
              "      <th>B Kumar</th>\n",
              "      <td>2707</td>\n",
              "      <td>3264</td>\n",
              "      <td>141</td>\n",
              "      <td>4.976103</td>\n",
              "    </tr>\n",
              "    <tr>\n",
              "      <th>SL Malinga</th>\n",
              "      <td>2974</td>\n",
              "      <td>3511</td>\n",
              "      <td>188</td>\n",
              "      <td>5.082313</td>\n",
              "    </tr>\n",
              "    <tr>\n",
              "      <th>Harbhajan Singh</th>\n",
              "      <td>3451</td>\n",
              "      <td>4050</td>\n",
              "      <td>161</td>\n",
              "      <td>5.112593</td>\n",
              "    </tr>\n",
              "    <tr>\n",
              "      <th>SP Narine</th>\n",
              "      <td>2600</td>\n",
              "      <td>2939</td>\n",
              "      <td>137</td>\n",
              "      <td>5.307928</td>\n",
              "    </tr>\n",
              "    <tr>\n",
              "      <th>R Ashwin</th>\n",
              "      <td>3016</td>\n",
              "      <td>3391</td>\n",
              "      <td>138</td>\n",
              "      <td>5.336479</td>\n",
              "    </tr>\n",
              "    <tr>\n",
              "      <th>DW Steyn</th>\n",
              "      <td>2207</td>\n",
              "      <td>2454</td>\n",
              "      <td>104</td>\n",
              "      <td>5.396088</td>\n",
              "    </tr>\n",
              "  </tbody>\n",
              "</table>\n",
              "</div>"
            ],
            "text/plain": [
              "                 runs  balls  wickets   economy\n",
              "bowler                                         \n",
              "UT Yadav         2605   3640      136  4.293956\n",
              "R Vinay Kumar    2186   3043      127  4.310220\n",
              "MM Sharma        1770   2457       99  4.322344\n",
              "DJ Bravo         2711   3733      168  4.357353\n",
              "PP Chawla        3157   4153      156  4.561040\n",
              "YS Chahal        1841   2416      102  4.572020\n",
              "RP Singh         1874   2417      100  4.652048\n",
              "SR Watson        2137   2751      107  4.660851\n",
              "A Nehra          1974   2537      121  4.668506\n",
              "RA Jadeja        2541   3221      116  4.733313\n",
              "P Kumar          2637   3342      102  4.734291\n",
              "Z Khan           2276   2860      119  4.774825\n",
              "PP Ojha          1945   2399       99  4.864527\n",
              "A Mishra         3172   3850      165  4.943377\n",
              "B Kumar          2707   3264      141  4.976103\n",
              "SL Malinga       2974   3511      188  5.082313\n",
              "Harbhajan Singh  3451   4050      161  5.112593\n",
              "SP Narine        2600   2939      137  5.307928\n",
              "R Ashwin         3016   3391      138  5.336479\n",
              "DW Steyn         2207   2454      104  5.396088"
            ]
          },
          "metadata": {
            "tags": []
          },
          "execution_count": 110
        }
      ]
    },
    {
      "cell_type": "code",
      "metadata": {
        "colab": {
          "base_uri": "https://localhost:8080/",
          "height": 423
        },
        "id": "aP_vAuB_YvYm",
        "outputId": "b6952b6a-741c-4c0a-e816-b76f77e34a35"
      },
      "source": [
        "plt.figure(figsize=(10,5))\n",
        "plt.bar(np.arange(len(TopBowlers)),TopBowlers['economy'])\n",
        "plt.xticks(ticks=np.arange(len(TopBowlers)),labels=TopBowlers.index,rotation=90)\n",
        "plt.xlabel('Bowler')\n",
        "plt.ylabel('economy')\n",
        "plt.title('Bowlers Economy')\n",
        "plt.show()"
      ],
      "execution_count": 111,
      "outputs": [
        {
          "output_type": "display_data",
          "data": {
            "image/png": "[encoded data removed]",
            "text/plain": [
              "<Figure size 720x360 with 1 Axes>"
            ]
          },
          "metadata": {
            "tags": [],
            "needs_background": "light"
          }
        }
      ]
    },
    {
      "cell_type": "markdown",
      "metadata": {
        "id": "JREG2F9yYy96"
      },
      "source": [
        "Wickets taken by a bowler"
      ]
    },
    {
      "cell_type": "code",
      "metadata": {
        "colab": {
          "base_uri": "https://localhost:8080/",
          "height": 586
        },
        "id": "hn3-V18zY1SN",
        "outputId": "db86f884-6d87-45a4-adb7-6b637b776d57"
      },
      "source": [
        "plt.figure(figsize=(10,8))\n",
        "plt.bar(np.arange(len(TopBowlers)),TopBowlers['wickets'])\n",
        "plt.xticks(ticks=np.arange(len(TopBowlers)),labels=TopBowlers.index,rotation=90)\n",
        "plt.xlabel('Bowler')\n",
        "plt.ylabel('wickets')\n",
        "plt.title('Bowlers Wickets')\n",
        "plt.show()"
      ],
      "execution_count": 112,
      "outputs": [
        {
          "output_type": "display_data",
          "data": {
            "image/png": "[encoded data removed]",
            "text/plain": [
              "<Figure size 720x576 with 1 Axes>"
            ]
          },
          "metadata": {
            "tags": [],
            "needs_background": "light"
          }
        }
      ]
    },
    {
      "cell_type": "markdown",
      "metadata": {
        "id": "8LGDgF47Y5gG"
      },
      "source": [
        "Top 5 Bowlers"
      ]
    },
    {
      "cell_type": "code",
      "metadata": {
        "colab": {
          "base_uri": "https://localhost:8080/",
          "height": 387
        },
        "id": "SkWa8S0lY7gd",
        "outputId": "4e58b38e-a809-4f21-e628-7750112f54d2"
      },
      "source": [
        "data_deliveries.groupby('bowler')['player_dismissed'].count().sort_values(ascending=False).head(5).plot(kind='bar')\n",
        "plt.title(\"Top 5 Bowlers\")"
      ],
      "execution_count": 113,
      "outputs": [
        {
          "output_type": "execute_result",
          "data": {
            "text/plain": [
              "Text(0.5, 1.0, 'Top 5 Bowlers')"
            ]
          },
          "metadata": {
            "tags": []
          },
          "execution_count": 113
        },
        {
          "output_type": "display_data",
          "data": {
            "image/png": "[encoded data removed]",
            "text/plain": [
              "<Figure size 432x288 with 1 Axes>"
            ]
          },
          "metadata": {
            "tags": [],
            "needs_background": "light"
          }
        }
      ]
    },
    {
      "cell_type": "markdown",
      "metadata": {
        "id": "dn5AaRBeZAIz"
      },
      "source": [
        "Harbhajan Singh and A Mishra took the most wickets, so probability is that in whichever team they are that team has high chances of winning by wickets."
      ]
    },
    {
      "cell_type": "markdown",
      "metadata": {
        "id": "Hs7yWMZfZBbo"
      },
      "source": [
        "## 5. Conclusion:\n",
        "1. Best Team is Mumbai Indians.\n",
        "2. Best Player is CH Gayle.\n",
        "3. Winning Toss and Batting first are a factor that affect the victory.\n",
        "4. Most matches have been played in Eden Gardens followed by Wankhede Stadium.\n",
        "5. Teams who win toss choose to field first.\n",
        "6. Teams who choose to field after winning the toss have high chances of winning.\n",
        "7. Virat Kohli and S.K Raina Scored the most runs, so probability is that in whichever team they are that team has high chances of winning by runs and comapnies can also hire them to endorse products of batting.\n",
        "8.  Players like, CH Gayle, AB de Villiers, MS Dhoni, and DA Warner can be hired by many companies to endorse their products as they have a huge fanbase."
      ]
    }
  ]
}